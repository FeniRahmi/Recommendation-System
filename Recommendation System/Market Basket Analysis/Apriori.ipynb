{
 "cells": [
  {
   "cell_type": "markdown",
   "metadata": {},
   "source": [
    "# Market Basket Analysis with Apriori Algorithm\n",
    "\n",
    "In this program I will representage market basket analysis with Apriori, I use efficient_apriori package\n",
    "<br>\n",
    "Data in this program is about customer who buy some products in online shop <br>\n",
    "Market Basket Analysis (MBA) is the process of discovering frequent item sets in large transactional database. <br>\n",
    "with MBA you can get insight, ex : you can know the product isn't interested, so you can make promotion of that product."
   ]
  },
  {
   "cell_type": "markdown",
   "metadata": {},
   "source": [
    "### Note :\n",
    "To understand apriori algorithm, terminologies you should know: support, confidence, lift and conviction. <br><br>\n",
    "Support is an indication of how frequently the itemset appears in the dataset. <br>\n",
    "Confidence is an indication of how often the rule has been found to be true. <br>\n",
    "Lift is the ratio of the observed support to that expected if X and Y were independent. <br>\n",
    "Conviction is the ratio of the expected frequency that X occurs without Y."
   ]
  },
  {
   "cell_type": "markdown",
   "metadata": {},
   "source": [
    "## Import Package"
   ]
  },
  {
   "cell_type": "code",
   "execution_count": 70,
   "metadata": {},
   "outputs": [],
   "source": [
    "import pandas as pd\n",
    "from efficient_apriori import apriori\n",
    "from apyori import apriori as ap\n",
    "import numpy as np\n",
    "import matplotlib.pyplot as plt"
   ]
  },
  {
   "cell_type": "markdown",
   "metadata": {},
   "source": [
    "## Load Data"
   ]
  },
  {
   "cell_type": "code",
   "execution_count": 77,
   "metadata": {},
   "outputs": [],
   "source": [
    "data = pd.read_csv(\"DATA.csv\")"
   ]
  },
  {
   "cell_type": "code",
   "execution_count": 73,
   "metadata": {
    "scrolled": false
   },
   "outputs": [
    {
     "data": {
      "text/html": [
       "<div>\n",
       "<style scoped>\n",
       "    .dataframe tbody tr th:only-of-type {\n",
       "        vertical-align: middle;\n",
       "    }\n",
       "\n",
       "    .dataframe tbody tr th {\n",
       "        vertical-align: top;\n",
       "    }\n",
       "\n",
       "    .dataframe thead th {\n",
       "        text-align: right;\n",
       "    }\n",
       "</style>\n",
       "<table border=\"1\" class=\"dataframe\">\n",
       "  <thead>\n",
       "    <tr style=\"text-align: right;\">\n",
       "      <th></th>\n",
       "      <th>Timestamp</th>\n",
       "      <th>Name</th>\n",
       "      <th>Item 1</th>\n",
       "      <th>Item 2</th>\n",
       "      <th>Item 3</th>\n",
       "    </tr>\n",
       "  </thead>\n",
       "  <tbody>\n",
       "    <tr>\n",
       "      <td>0</td>\n",
       "      <td>2019/09/17 8:58:22 AM GMT+7</td>\n",
       "      <td>Firdaus Adi Nugroho</td>\n",
       "      <td>HP</td>\n",
       "      <td>Racket</td>\n",
       "      <td>Watch</td>\n",
       "    </tr>\n",
       "    <tr>\n",
       "      <td>1</td>\n",
       "      <td>2019/09/17 8:58:24 AM GMT+7</td>\n",
       "      <td>faizah</td>\n",
       "      <td>HP</td>\n",
       "      <td>Camera</td>\n",
       "      <td>Watch</td>\n",
       "    </tr>\n",
       "    <tr>\n",
       "      <td>2</td>\n",
       "      <td>2019/09/17 8:58:30 AM GMT+7</td>\n",
       "      <td>andrem</td>\n",
       "      <td>Watch</td>\n",
       "      <td>Camera</td>\n",
       "      <td>Music Pad</td>\n",
       "    </tr>\n",
       "    <tr>\n",
       "      <td>3</td>\n",
       "      <td>2019/09/17 8:58:30 AM GMT+7</td>\n",
       "      <td>laili</td>\n",
       "      <td>Camera</td>\n",
       "      <td>Watch</td>\n",
       "      <td>Mouse</td>\n",
       "    </tr>\n",
       "    <tr>\n",
       "      <td>4</td>\n",
       "      <td>2019/09/17 8:58:33 AM GMT+7</td>\n",
       "      <td>Tara</td>\n",
       "      <td>HP</td>\n",
       "      <td>Watch</td>\n",
       "      <td>Music Pad</td>\n",
       "    </tr>\n",
       "    <tr>\n",
       "      <td>5</td>\n",
       "      <td>2019/09/17 8:58:36 AM GMT+7</td>\n",
       "      <td>Devita</td>\n",
       "      <td>Watch</td>\n",
       "      <td>Racket</td>\n",
       "      <td>Camera</td>\n",
       "    </tr>\n",
       "    <tr>\n",
       "      <td>6</td>\n",
       "      <td>2019/09/17 8:58:36 AM GMT+7</td>\n",
       "      <td>febi</td>\n",
       "      <td>HP</td>\n",
       "      <td>Camera</td>\n",
       "      <td>Watch</td>\n",
       "    </tr>\n",
       "    <tr>\n",
       "      <td>7</td>\n",
       "      <td>2019/09/17 8:58:36 AM GMT+7</td>\n",
       "      <td>rima</td>\n",
       "      <td>Watch</td>\n",
       "      <td>Camera</td>\n",
       "      <td>Music Pad</td>\n",
       "    </tr>\n",
       "    <tr>\n",
       "      <td>8</td>\n",
       "      <td>2019/09/17 8:58:43 AM GMT+7</td>\n",
       "      <td>FdN</td>\n",
       "      <td>Racket</td>\n",
       "      <td>Soap</td>\n",
       "      <td>Guitar</td>\n",
       "    </tr>\n",
       "    <tr>\n",
       "      <td>9</td>\n",
       "      <td>2019/09/17 8:58:44 AM GMT+7</td>\n",
       "      <td>tunggal</td>\n",
       "      <td>Racket</td>\n",
       "      <td>Camera</td>\n",
       "      <td>Guitar</td>\n",
       "    </tr>\n",
       "    <tr>\n",
       "      <td>10</td>\n",
       "      <td>2019/09/17 8:58:52 AM GMT+7</td>\n",
       "      <td>Afifah</td>\n",
       "      <td>Camera</td>\n",
       "      <td>Bag</td>\n",
       "      <td>NaN</td>\n",
       "    </tr>\n",
       "    <tr>\n",
       "      <td>11</td>\n",
       "      <td>2019/09/17 8:58:57 AM GMT+7</td>\n",
       "      <td>bunga</td>\n",
       "      <td>Music Pad</td>\n",
       "      <td>Guitar</td>\n",
       "      <td>Camera</td>\n",
       "    </tr>\n",
       "    <tr>\n",
       "      <td>12</td>\n",
       "      <td>2019/09/17 8:59:05 AM GMT+7</td>\n",
       "      <td>Laras</td>\n",
       "      <td>Camera</td>\n",
       "      <td>Watch</td>\n",
       "      <td>NaN</td>\n",
       "    </tr>\n",
       "    <tr>\n",
       "      <td>13</td>\n",
       "      <td>2019/09/17 8:59:13 AM GMT+7</td>\n",
       "      <td>Topik Teman Firli</td>\n",
       "      <td>Guitar</td>\n",
       "      <td>Camera</td>\n",
       "      <td>Music Pad</td>\n",
       "    </tr>\n",
       "    <tr>\n",
       "      <td>14</td>\n",
       "      <td>2019/09/17 8:59:14 AM GMT+7</td>\n",
       "      <td>Ilham</td>\n",
       "      <td>Camera</td>\n",
       "      <td>Watch</td>\n",
       "      <td>Music Pad</td>\n",
       "    </tr>\n",
       "    <tr>\n",
       "      <td>15</td>\n",
       "      <td>2019/09/17 8:59:19 AM GMT+7</td>\n",
       "      <td>Hania</td>\n",
       "      <td>Camera</td>\n",
       "      <td>Racket</td>\n",
       "      <td>Guitar</td>\n",
       "    </tr>\n",
       "    <tr>\n",
       "      <td>16</td>\n",
       "      <td>2019/09/17 8:59:21 AM GMT+7</td>\n",
       "      <td>Damar Teman Firli</td>\n",
       "      <td>Guitar</td>\n",
       "      <td>Camera</td>\n",
       "      <td>Watch</td>\n",
       "    </tr>\n",
       "    <tr>\n",
       "      <td>17</td>\n",
       "      <td>2019/09/17 8:59:29 AM GMT+7</td>\n",
       "      <td>Putrisqiana</td>\n",
       "      <td>Guitar</td>\n",
       "      <td>Watch</td>\n",
       "      <td>NaN</td>\n",
       "    </tr>\n",
       "    <tr>\n",
       "      <td>18</td>\n",
       "      <td>2019/09/17 8:59:30 AM GMT+7</td>\n",
       "      <td>Zumar</td>\n",
       "      <td>Camera</td>\n",
       "      <td>Watch</td>\n",
       "      <td>NaN</td>\n",
       "    </tr>\n",
       "    <tr>\n",
       "      <td>19</td>\n",
       "      <td>2019/09/17 8:59:37 AM GMT+7</td>\n",
       "      <td>xxnx</td>\n",
       "      <td>Soap</td>\n",
       "      <td>Bag</td>\n",
       "      <td>Guitar</td>\n",
       "    </tr>\n",
       "    <tr>\n",
       "      <td>20</td>\n",
       "      <td>2019/09/17 8:59:39 AM GMT+7</td>\n",
       "      <td>bakul</td>\n",
       "      <td>Router</td>\n",
       "      <td>Bag</td>\n",
       "      <td>NaN</td>\n",
       "    </tr>\n",
       "    <tr>\n",
       "      <td>21</td>\n",
       "      <td>2019/09/17 8:59:42 AM GMT+7</td>\n",
       "      <td>Agrawal Srikant</td>\n",
       "      <td>Watch</td>\n",
       "      <td>Racket</td>\n",
       "      <td>Soap</td>\n",
       "    </tr>\n",
       "    <tr>\n",
       "      <td>22</td>\n",
       "      <td>2019/09/17 8:59:47 AM GMT+7</td>\n",
       "      <td>jul</td>\n",
       "      <td>Music Pad</td>\n",
       "      <td>Soap</td>\n",
       "      <td>Watch</td>\n",
       "    </tr>\n",
       "    <tr>\n",
       "      <td>23</td>\n",
       "      <td>2019/09/17 9:00:17 AM GMT+7</td>\n",
       "      <td>Andi Isra</td>\n",
       "      <td>Mouse</td>\n",
       "      <td>Camera</td>\n",
       "      <td>Soap</td>\n",
       "    </tr>\n",
       "  </tbody>\n",
       "</table>\n",
       "</div>"
      ],
      "text/plain": [
       "                      Timestamp                 Name     Item 1  Item 2  \\\n",
       "0   2019/09/17 8:58:22 AM GMT+7  Firdaus Adi Nugroho         HP  Racket   \n",
       "1   2019/09/17 8:58:24 AM GMT+7               faizah         HP  Camera   \n",
       "2   2019/09/17 8:58:30 AM GMT+7               andrem      Watch  Camera   \n",
       "3   2019/09/17 8:58:30 AM GMT+7                laili     Camera   Watch   \n",
       "4   2019/09/17 8:58:33 AM GMT+7                 Tara         HP   Watch   \n",
       "5   2019/09/17 8:58:36 AM GMT+7               Devita      Watch  Racket   \n",
       "6   2019/09/17 8:58:36 AM GMT+7                 febi         HP  Camera   \n",
       "7   2019/09/17 8:58:36 AM GMT+7                 rima      Watch  Camera   \n",
       "8   2019/09/17 8:58:43 AM GMT+7                  FdN     Racket    Soap   \n",
       "9   2019/09/17 8:58:44 AM GMT+7              tunggal     Racket  Camera   \n",
       "10  2019/09/17 8:58:52 AM GMT+7               Afifah     Camera     Bag   \n",
       "11  2019/09/17 8:58:57 AM GMT+7                bunga  Music Pad  Guitar   \n",
       "12  2019/09/17 8:59:05 AM GMT+7                Laras     Camera   Watch   \n",
       "13  2019/09/17 8:59:13 AM GMT+7    Topik Teman Firli     Guitar  Camera   \n",
       "14  2019/09/17 8:59:14 AM GMT+7                Ilham     Camera   Watch   \n",
       "15  2019/09/17 8:59:19 AM GMT+7                Hania     Camera  Racket   \n",
       "16  2019/09/17 8:59:21 AM GMT+7    Damar Teman Firli     Guitar  Camera   \n",
       "17  2019/09/17 8:59:29 AM GMT+7          Putrisqiana     Guitar   Watch   \n",
       "18  2019/09/17 8:59:30 AM GMT+7                Zumar     Camera   Watch   \n",
       "19  2019/09/17 8:59:37 AM GMT+7                 xxnx       Soap     Bag   \n",
       "20  2019/09/17 8:59:39 AM GMT+7                bakul     Router     Bag   \n",
       "21  2019/09/17 8:59:42 AM GMT+7      Agrawal Srikant      Watch  Racket   \n",
       "22  2019/09/17 8:59:47 AM GMT+7                  jul  Music Pad    Soap   \n",
       "23  2019/09/17 9:00:17 AM GMT+7            Andi Isra      Mouse  Camera   \n",
       "\n",
       "       Item 3  \n",
       "0       Watch  \n",
       "1       Watch  \n",
       "2   Music Pad  \n",
       "3       Mouse  \n",
       "4   Music Pad  \n",
       "5      Camera  \n",
       "6       Watch  \n",
       "7   Music Pad  \n",
       "8      Guitar  \n",
       "9      Guitar  \n",
       "10        NaN  \n",
       "11     Camera  \n",
       "12        NaN  \n",
       "13  Music Pad  \n",
       "14  Music Pad  \n",
       "15     Guitar  \n",
       "16      Watch  \n",
       "17        NaN  \n",
       "18        NaN  \n",
       "19     Guitar  \n",
       "20        NaN  \n",
       "21       Soap  \n",
       "22      Watch  \n",
       "23       Soap  "
      ]
     },
     "execution_count": 73,
     "metadata": {},
     "output_type": "execute_result"
    }
   ],
   "source": [
    "data"
   ]
  },
  {
   "cell_type": "markdown",
   "metadata": {},
   "source": [
    "## Visualization of Data\n",
    "from this bar plot can be known which items have the highest number of purchases"
   ]
  },
  {
   "cell_type": "code",
   "execution_count": 119,
   "metadata": {},
   "outputs": [
    {
     "data": {
      "text/plain": [
       "<matplotlib.axes._subplots.AxesSubplot at 0x2694b144438>"
      ]
     },
     "execution_count": 119,
     "metadata": {},
     "output_type": "execute_result"
    },
    {
     "data": {
      "image/png": "[encoded data removed]",
      "text/plain": [
       "<matplotlib.figure.Figure at 0x2694b194860>"
      ]
     },
     "metadata": {},
     "output_type": "display_data"
    }
   ],
   "source": [
    "import seaborn as sns\n",
    "f=plt.figure(figsize=(15,15))\n",
    "f.add_subplot(2,2,1)\n",
    "sns.countplot(data['Item 1'],order=data['Item 1'].value_counts().index)\n",
    "f.add_subplot(2,2,2)\n",
    "sns.countplot(data['Item 2'],order=data['Item 2'].value_counts().index)\n",
    "f.add_subplot(2,2,3)\n",
    "sns.countplot(data['Item 3'],order=data['Item 3'].value_counts().index)"
   ]
  },
  {
   "cell_type": "markdown",
   "metadata": {},
   "source": [
    "## Make column \"Name\" as index and Drop unuse columns"
   ]
  },
  {
   "cell_type": "code",
   "execution_count": 78,
   "metadata": {
    "scrolled": true
   },
   "outputs": [],
   "source": [
    "data.index = data['Name']"
   ]
  },
  {
   "cell_type": "code",
   "execution_count": 79,
   "metadata": {},
   "outputs": [],
   "source": [
    "data = data.drop(['Timestamp','Name'],axis =1)"
   ]
  },
  {
   "cell_type": "code",
   "execution_count": 80,
   "metadata": {},
   "outputs": [
    {
     "data": {
      "text/html": [
       "<div>\n",
       "<style scoped>\n",
       "    .dataframe tbody tr th:only-of-type {\n",
       "        vertical-align: middle;\n",
       "    }\n",
       "\n",
       "    .dataframe tbody tr th {\n",
       "        vertical-align: top;\n",
       "    }\n",
       "\n",
       "    .dataframe thead th {\n",
       "        text-align: right;\n",
       "    }\n",
       "</style>\n",
       "<table border=\"1\" class=\"dataframe\">\n",
       "  <thead>\n",
       "    <tr style=\"text-align: right;\">\n",
       "      <th></th>\n",
       "      <th>Item 1</th>\n",
       "      <th>Item 2</th>\n",
       "      <th>Item 3</th>\n",
       "    </tr>\n",
       "    <tr>\n",
       "      <th>Name</th>\n",
       "      <th></th>\n",
       "      <th></th>\n",
       "      <th></th>\n",
       "    </tr>\n",
       "  </thead>\n",
       "  <tbody>\n",
       "    <tr>\n",
       "      <td>Firdaus Adi Nugroho</td>\n",
       "      <td>HP</td>\n",
       "      <td>Racket</td>\n",
       "      <td>Watch</td>\n",
       "    </tr>\n",
       "    <tr>\n",
       "      <td>faizah</td>\n",
       "      <td>HP</td>\n",
       "      <td>Camera</td>\n",
       "      <td>Watch</td>\n",
       "    </tr>\n",
       "    <tr>\n",
       "      <td>andrem</td>\n",
       "      <td>Watch</td>\n",
       "      <td>Camera</td>\n",
       "      <td>Music Pad</td>\n",
       "    </tr>\n",
       "    <tr>\n",
       "      <td>laili</td>\n",
       "      <td>Camera</td>\n",
       "      <td>Watch</td>\n",
       "      <td>Mouse</td>\n",
       "    </tr>\n",
       "    <tr>\n",
       "      <td>Tara</td>\n",
       "      <td>HP</td>\n",
       "      <td>Watch</td>\n",
       "      <td>Music Pad</td>\n",
       "    </tr>\n",
       "    <tr>\n",
       "      <td>Devita</td>\n",
       "      <td>Watch</td>\n",
       "      <td>Racket</td>\n",
       "      <td>Camera</td>\n",
       "    </tr>\n",
       "    <tr>\n",
       "      <td>febi</td>\n",
       "      <td>HP</td>\n",
       "      <td>Camera</td>\n",
       "      <td>Watch</td>\n",
       "    </tr>\n",
       "    <tr>\n",
       "      <td>rima</td>\n",
       "      <td>Watch</td>\n",
       "      <td>Camera</td>\n",
       "      <td>Music Pad</td>\n",
       "    </tr>\n",
       "    <tr>\n",
       "      <td>FdN</td>\n",
       "      <td>Racket</td>\n",
       "      <td>Soap</td>\n",
       "      <td>Guitar</td>\n",
       "    </tr>\n",
       "    <tr>\n",
       "      <td>tunggal</td>\n",
       "      <td>Racket</td>\n",
       "      <td>Camera</td>\n",
       "      <td>Guitar</td>\n",
       "    </tr>\n",
       "    <tr>\n",
       "      <td>Afifah</td>\n",
       "      <td>Camera</td>\n",
       "      <td>Bag</td>\n",
       "      <td>NaN</td>\n",
       "    </tr>\n",
       "    <tr>\n",
       "      <td>bunga</td>\n",
       "      <td>Music Pad</td>\n",
       "      <td>Guitar</td>\n",
       "      <td>Camera</td>\n",
       "    </tr>\n",
       "    <tr>\n",
       "      <td>Laras</td>\n",
       "      <td>Camera</td>\n",
       "      <td>Watch</td>\n",
       "      <td>NaN</td>\n",
       "    </tr>\n",
       "    <tr>\n",
       "      <td>Topik Teman Firli</td>\n",
       "      <td>Guitar</td>\n",
       "      <td>Camera</td>\n",
       "      <td>Music Pad</td>\n",
       "    </tr>\n",
       "    <tr>\n",
       "      <td>Ilham</td>\n",
       "      <td>Camera</td>\n",
       "      <td>Watch</td>\n",
       "      <td>Music Pad</td>\n",
       "    </tr>\n",
       "    <tr>\n",
       "      <td>Hania</td>\n",
       "      <td>Camera</td>\n",
       "      <td>Racket</td>\n",
       "      <td>Guitar</td>\n",
       "    </tr>\n",
       "    <tr>\n",
       "      <td>Damar Teman Firli</td>\n",
       "      <td>Guitar</td>\n",
       "      <td>Camera</td>\n",
       "      <td>Watch</td>\n",
       "    </tr>\n",
       "    <tr>\n",
       "      <td>Putrisqiana</td>\n",
       "      <td>Guitar</td>\n",
       "      <td>Watch</td>\n",
       "      <td>NaN</td>\n",
       "    </tr>\n",
       "    <tr>\n",
       "      <td>Zumar</td>\n",
       "      <td>Camera</td>\n",
       "      <td>Watch</td>\n",
       "      <td>NaN</td>\n",
       "    </tr>\n",
       "    <tr>\n",
       "      <td>xxnx</td>\n",
       "      <td>Soap</td>\n",
       "      <td>Bag</td>\n",
       "      <td>Guitar</td>\n",
       "    </tr>\n",
       "    <tr>\n",
       "      <td>bakul</td>\n",
       "      <td>Router</td>\n",
       "      <td>Bag</td>\n",
       "      <td>NaN</td>\n",
       "    </tr>\n",
       "    <tr>\n",
       "      <td>Agrawal Srikant</td>\n",
       "      <td>Watch</td>\n",
       "      <td>Racket</td>\n",
       "      <td>Soap</td>\n",
       "    </tr>\n",
       "    <tr>\n",
       "      <td>jul</td>\n",
       "      <td>Music Pad</td>\n",
       "      <td>Soap</td>\n",
       "      <td>Watch</td>\n",
       "    </tr>\n",
       "    <tr>\n",
       "      <td>Andi Isra</td>\n",
       "      <td>Mouse</td>\n",
       "      <td>Camera</td>\n",
       "      <td>Soap</td>\n",
       "    </tr>\n",
       "  </tbody>\n",
       "</table>\n",
       "</div>"
      ],
      "text/plain": [
       "                        Item 1  Item 2     Item 3\n",
       "Name                                             \n",
       "Firdaus Adi Nugroho         HP  Racket      Watch\n",
       "faizah                      HP  Camera      Watch\n",
       "andrem                   Watch  Camera  Music Pad\n",
       "laili                   Camera   Watch      Mouse\n",
       "Tara                        HP   Watch  Music Pad\n",
       "Devita                   Watch  Racket     Camera\n",
       "febi                        HP  Camera      Watch\n",
       "rima                     Watch  Camera  Music Pad\n",
       "FdN                     Racket    Soap     Guitar\n",
       "tunggal                 Racket  Camera     Guitar\n",
       "Afifah                  Camera     Bag        NaN\n",
       "bunga                Music Pad  Guitar     Camera\n",
       "Laras                   Camera   Watch        NaN\n",
       "Topik Teman Firli       Guitar  Camera  Music Pad\n",
       "Ilham                   Camera   Watch  Music Pad\n",
       "Hania                   Camera  Racket     Guitar\n",
       "Damar Teman Firli       Guitar  Camera      Watch\n",
       "Putrisqiana             Guitar   Watch        NaN\n",
       "Zumar                   Camera   Watch        NaN\n",
       "xxnx                      Soap     Bag     Guitar\n",
       "bakul                   Router     Bag        NaN\n",
       "Agrawal Srikant          Watch  Racket       Soap\n",
       "jul                  Music Pad    Soap      Watch\n",
       "Andi Isra                Mouse  Camera       Soap"
      ]
     },
     "execution_count": 80,
     "metadata": {},
     "output_type": "execute_result"
    }
   ],
   "source": [
    "data"
   ]
  },
  {
   "cell_type": "markdown",
   "metadata": {},
   "source": [
    "## Run with Apriori"
   ]
  },
  {
   "cell_type": "code",
   "execution_count": 37,
   "metadata": {
    "scrolled": false
   },
   "outputs": [
    {
     "name": "stdout",
     "output_type": "stream",
     "text": [
      "[{Guitar} -> {Camera}, {Camera} -> {Guitar}, {Music Pad} -> {Camera}, {Camera} -> {Music Pad}, {Racket} -> {Camera}, {Camera} -> {Racket}, {Watch} -> {Camera}, {Camera} -> {Watch}, {nan} -> {Camera}, {Camera} -> {nan}, {Racket} -> {Guitar}, {Guitar} -> {Racket}, {Watch} -> {HP}, {HP} -> {Watch}, {Watch} -> {Music Pad}, {Music Pad} -> {Watch}, {Watch} -> {Racket}, {Racket} -> {Watch}, {nan} -> {Watch}, {Watch} -> {nan}, {Music Pad, Watch} -> {Camera}, {Camera, Watch} -> {Music Pad}, {Camera, Music Pad} -> {Watch}, {Watch} -> {Camera, Music Pad}, {Music Pad} -> {Camera, Watch}, {Camera} -> {Music Pad, Watch}]\n"
     ]
    }
   ],
   "source": [
    "# Initialize transaction variabel with list of items\n",
    "transactions = []\n",
    "for i in range(0,23):\n",
    "    transactions.append([str(data_final.values[i,j])for j in range(0,3)])\n",
    "# set data, min support and min confidence\n",
    "itemsets, rules = apriori(transactions, min_support=0.1,  min_confidence=0.2)\n",
    "print(rules)"
   ]
  },
  {
   "cell_type": "markdown",
   "metadata": {},
   "source": [
    "## Association Rules"
   ]
  },
  {
   "cell_type": "markdown",
   "metadata": {},
   "source": [
    "### Print the rule with 1 items on the left and 1 item on the right, sorted by lift"
   ]
  },
  {
   "cell_type": "code",
   "execution_count": 123,
   "metadata": {
    "scrolled": false
   },
   "outputs": [
    {
     "name": "stdout",
     "output_type": "stream",
     "text": [
      "{Racket} -> {Camera} (conf: 0.500, supp: 0.130, lift: 0.767, conv: 0.696)\n",
      "{Camera} -> {Racket} (conf: 0.200, supp: 0.130, lift: 0.767, conv: 0.924)\n",
      "{Watch} -> {Racket} (conf: 0.200, supp: 0.130, lift: 0.767, conv: 0.924)\n",
      "{Racket} -> {Watch} (conf: 0.500, supp: 0.130, lift: 0.767, conv: 0.696)\n",
      "{nan} -> {Camera} (conf: 0.600, supp: 0.130, lift: 0.920, conv: 0.870)\n",
      "{Camera} -> {nan} (conf: 0.200, supp: 0.130, lift: 0.920, conv: 0.978)\n",
      "{nan} -> {Watch} (conf: 0.600, supp: 0.130, lift: 0.920, conv: 0.870)\n",
      "{Watch} -> {nan} (conf: 0.200, supp: 0.130, lift: 0.920, conv: 0.978)\n",
      "{Guitar} -> {Camera} (conf: 0.625, supp: 0.217, lift: 0.958, conv: 0.928)\n",
      "{Camera} -> {Guitar} (conf: 0.333, supp: 0.217, lift: 0.958, conv: 0.978)\n",
      "{Watch} -> {Camera} (conf: 0.667, supp: 0.435, lift: 1.022, conv: 1.043)\n",
      "{Camera} -> {Watch} (conf: 0.667, supp: 0.435, lift: 1.022, conv: 1.043)\n",
      "{Music Pad} -> {Camera} (conf: 0.714, supp: 0.217, lift: 1.095, conv: 1.217)\n",
      "{Camera} -> {Music Pad} (conf: 0.333, supp: 0.217, lift: 1.095, conv: 1.043)\n",
      "{Watch} -> {Music Pad} (conf: 0.333, supp: 0.217, lift: 1.095, conv: 1.043)\n",
      "{Music Pad} -> {Watch} (conf: 0.714, supp: 0.217, lift: 1.095, conv: 1.217)\n",
      "{Racket} -> {Guitar} (conf: 0.500, supp: 0.130, lift: 1.437, conv: 1.304)\n",
      "{Guitar} -> {Racket} (conf: 0.375, supp: 0.130, lift: 1.437, conv: 1.183)\n",
      "{Watch} -> {HP} (conf: 0.267, supp: 0.174, lift: 1.533, conv: 1.126)\n",
      "{HP} -> {Watch} (conf: 1.000, supp: 0.174, lift: 1.533, conv: 347826086.957)\n"
     ]
    }
   ],
   "source": [
    "rules_rhs = filter(lambda rule: len(rule.lhs) == 1 and len(rule.rhs) == 1, rules)\n",
    "for rule in sorted(rules_rhs, key=lambda rule: rule.lift):\n",
    "  print(rule) # Print the rule with confidence, support, lift, conviction"
   ]
  },
  {
   "cell_type": "markdown",
   "metadata": {},
   "source": [
    "### Print the rule with 2 items on the left and 1 item on the right, sorted by lift"
   ]
  },
  {
   "cell_type": "code",
   "execution_count": 92,
   "metadata": {
    "scrolled": true
   },
   "outputs": [
    {
     "name": "stdout",
     "output_type": "stream",
     "text": [
      "{Music Pad, Watch} -> {Camera} (conf: 0.600, supp: 0.130, lift: 0.920, conv: 0.870)\n",
      "{Camera, Music Pad} -> {Watch} (conf: 0.600, supp: 0.130, lift: 0.920, conv: 0.870)\n",
      "{Camera, Watch} -> {Music Pad} (conf: 0.300, supp: 0.130, lift: 0.986, conv: 0.994)\n"
     ]
    }
   ],
   "source": [
    "rules_rhs = filter(lambda rule: len(rule.lhs) == 2 and len(rule.rhs) == 1, rules)\n",
    "for rule in sorted(rules_rhs, key=lambda rule: rule.lift):\n",
    "  print(rule) # Print the rule with confidence, support, lift, conviction"
   ]
  },
  {
   "cell_type": "markdown",
   "metadata": {},
   "source": [
    "### Print the rule with 1 items on the left and 2 item on the right, sorted by lift"
   ]
  },
  {
   "cell_type": "code",
   "execution_count": 94,
   "metadata": {},
   "outputs": [
    {
     "name": "stdout",
     "output_type": "stream",
     "text": [
      "{Watch} -> {Camera, Music Pad} (conf: 0.200, supp: 0.130, lift: 0.920, conv: 0.978)\n",
      "{Camera} -> {Music Pad, Watch} (conf: 0.200, supp: 0.130, lift: 0.920, conv: 0.978)\n",
      "{Music Pad} -> {Camera, Watch} (conf: 0.429, supp: 0.130, lift: 0.986, conv: 0.989)\n"
     ]
    }
   ],
   "source": [
    "rules_rhs = filter(lambda rule: len(rule.lhs) == 1 and len(rule.rhs) == 2, rules)\n",
    "for rule in sorted(rules_rhs, key=lambda rule: rule.lift):\n",
    "  print(rule) # Print the rule with confidence, support, lift, conviction"
   ]
  },
  {
   "cell_type": "markdown",
   "metadata": {},
   "source": [
    "## Frequent of n-term set"
   ]
  },
  {
   "cell_type": "code",
   "execution_count": 39,
   "metadata": {
    "scrolled": true
   },
   "outputs": [
    {
     "data": {
      "text/plain": [
       "({1: {('Bag',): 3,\n",
       "   ('Camera',): 15,\n",
       "   ('Guitar',): 8,\n",
       "   ('HP',): 4,\n",
       "   ('Music Pad',): 7,\n",
       "   ('Racket',): 6,\n",
       "   ('Soap',): 4,\n",
       "   ('Watch',): 15,\n",
       "   ('nan',): 5},\n",
       "  2: {('Camera', 'Guitar'): 5,\n",
       "   ('Camera', 'Music Pad'): 5,\n",
       "   ('Camera', 'Racket'): 3,\n",
       "   ('Camera', 'Watch'): 10,\n",
       "   ('Camera', 'nan'): 3,\n",
       "   ('Guitar', 'Racket'): 3,\n",
       "   ('HP', 'Watch'): 4,\n",
       "   ('Music Pad', 'Watch'): 5,\n",
       "   ('Racket', 'Watch'): 3,\n",
       "   ('Watch', 'nan'): 3},\n",
       "  3: {('Camera', 'Music Pad', 'Watch'): 3}},\n",
       " [{Guitar} -> {Camera},\n",
       "  {Camera} -> {Guitar},\n",
       "  {Music Pad} -> {Camera},\n",
       "  {Camera} -> {Music Pad},\n",
       "  {Racket} -> {Camera},\n",
       "  {Camera} -> {Racket},\n",
       "  {Watch} -> {Camera},\n",
       "  {Camera} -> {Watch},\n",
       "  {nan} -> {Camera},\n",
       "  {Camera} -> {nan},\n",
       "  {Racket} -> {Guitar},\n",
       "  {Guitar} -> {Racket},\n",
       "  {Watch} -> {HP},\n",
       "  {HP} -> {Watch},\n",
       "  {Watch} -> {Music Pad},\n",
       "  {Music Pad} -> {Watch},\n",
       "  {Watch} -> {Racket},\n",
       "  {Racket} -> {Watch},\n",
       "  {nan} -> {Watch},\n",
       "  {Watch} -> {nan},\n",
       "  {Music Pad, Watch} -> {Camera},\n",
       "  {Camera, Watch} -> {Music Pad},\n",
       "  {Camera, Music Pad} -> {Watch},\n",
       "  {Watch} -> {Camera, Music Pad},\n",
       "  {Music Pad} -> {Camera, Watch},\n",
       "  {Camera} -> {Music Pad, Watch}])"
      ]
     },
     "execution_count": 39,
     "metadata": {},
     "output_type": "execute_result"
    }
   ],
   "source": [
    "ts = apriori(transactions, min_support=0.1,  min_confidence=0.2)\n",
    "ts"
   ]
  },
  {
   "cell_type": "markdown",
   "metadata": {},
   "source": [
    "# Conclusion\n",
    "Association rule mining algorithms such as Apriori are very useful for finding simple associations between our data items. They are easy to understand, easy to implement and it can be used for large dataset and easy to be parallelized."
   ]
  }
 ],
 "metadata": {
  "kernelspec": {
   "display_name": "Python 3",
   "language": "python",
   "name": "python3"
  },
  "language_info": {
   "codemirror_mode": {
    "name": "ipython",
    "version": 3
   },
   "file_extension": ".py",
   "mimetype": "text/x-python",
   "name": "python",
   "nbconvert_exporter": "python",
   "pygments_lexer": "ipython3",
   "version": "3.6.4"
  }
 },
 "nbformat": 4,
 "nbformat_minor": 2
}
