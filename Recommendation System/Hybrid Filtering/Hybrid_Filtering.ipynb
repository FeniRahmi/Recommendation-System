{
 "cells": [
  {
   "cell_type": "markdown",
   "metadata": {},
   "source": [
    "# Hybrid Filtering\n",
    "\n",
    "Hybrid filtering adalah kombinasi dari beberapa sistem rekomendasi seperti menggabungkan collaborative filtering dengan content-based filtering.\n",
    "<br><br>\n",
    "Pada sistem ini ingin dibuat rekomendasi film untuk seseorang bernama Bunga. Dengan menggunakan hybrid filtering Bunga akan mendapatkan rekomendasi film yang akan dia tonton agar sesuai dengan seleranya Bunga dan film tersebut memang memiliki rating yang bagus dari orang lain.\n"
   ]
  },
  {
   "cell_type": "markdown",
   "metadata": {},
   "source": [
    "## Import Package\n",
    "Mengimpor package-package yang akan digunakan pada sistem berikut"
   ]
  },
  {
   "cell_type": "code",
   "execution_count": 3,
   "metadata": {},
   "outputs": [],
   "source": [
    "import pandas as pd\n",
    "import numpy as np\n",
    "import seaborn as sns\n",
    "import matplotlib\n",
    "import matplotlib.pyplot as plt\n",
    "from sklearn.feature_extraction.text import TfidfVectorizer\n",
    "from sklearn.metrics.pairwise import linear_kernel\n",
    "from math import sqrt"
   ]
  },
  {
   "cell_type": "markdown",
   "metadata": {},
   "source": [
    "## Load Data\n",
    "Mengambil data yang akan digunakan. Pada sistem ini data yang akan diambil adalah movie dan data user.<br>\n",
    "Data movie adalah data yang memuat hal-hal mengenai film tersebut yaitu genre, rating film, dan asal negara produksi film.<br>\n",
    "Data user adalah data yang memuat rating pengguna pada beberapa film, apabila pengguna belum menonton film tersebut maka ratingnya akan *default* 0."
   ]
  },
  {
   "cell_type": "markdown",
   "metadata": {},
   "source": [
    "#### Get data movie"
   ]
  },
  {
   "cell_type": "code",
   "execution_count": 4,
   "metadata": {
    "scrolled": true
   },
   "outputs": [
    {
     "data": {
      "text/html": [
       "<div>\n",
       "<style scoped>\n",
       "    .dataframe tbody tr th:only-of-type {\n",
       "        vertical-align: middle;\n",
       "    }\n",
       "\n",
       "    .dataframe tbody tr th {\n",
       "        vertical-align: top;\n",
       "    }\n",
       "\n",
       "    .dataframe thead th {\n",
       "        text-align: right;\n",
       "    }\n",
       "</style>\n",
       "<table border=\"1\" class=\"dataframe\">\n",
       "  <thead>\n",
       "    <tr style=\"text-align: right;\">\n",
       "      <th></th>\n",
       "      <th>Unnamed: 0</th>\n",
       "      <th>Movie</th>\n",
       "      <th>Country</th>\n",
       "      <th>Genre</th>\n",
       "      <th>Ratings</th>\n",
       "    </tr>\n",
       "  </thead>\n",
       "  <tbody>\n",
       "    <tr>\n",
       "      <td>0</td>\n",
       "      <td>0</td>\n",
       "      <td>Ada Apa dengan Cinta 2</td>\n",
       "      <td>Indonesia</td>\n",
       "      <td>Romance Drama</td>\n",
       "      <td>3</td>\n",
       "    </tr>\n",
       "    <tr>\n",
       "      <td>1</td>\n",
       "      <td>1</td>\n",
       "      <td>Gundala</td>\n",
       "      <td>Indonesia</td>\n",
       "      <td>Action Superhero</td>\n",
       "      <td>4</td>\n",
       "    </tr>\n",
       "    <tr>\n",
       "      <td>2</td>\n",
       "      <td>2</td>\n",
       "      <td>Dilan 1991</td>\n",
       "      <td>Indonesia</td>\n",
       "      <td>Romance Drama</td>\n",
       "      <td>4</td>\n",
       "    </tr>\n",
       "    <tr>\n",
       "      <td>3</td>\n",
       "      <td>3</td>\n",
       "      <td>Bumi Manusia</td>\n",
       "      <td>Indonesia</td>\n",
       "      <td>Drama Action</td>\n",
       "      <td>3</td>\n",
       "    </tr>\n",
       "    <tr>\n",
       "      <td>4</td>\n",
       "      <td>4</td>\n",
       "      <td>Dua Garis Biru</td>\n",
       "      <td>Indonesia</td>\n",
       "      <td>Drama Romance</td>\n",
       "      <td>2</td>\n",
       "    </tr>\n",
       "    <tr>\n",
       "      <td>5</td>\n",
       "      <td>5</td>\n",
       "      <td>Avengers: End Game</td>\n",
       "      <td>America</td>\n",
       "      <td>Superhero Action</td>\n",
       "      <td>4</td>\n",
       "    </tr>\n",
       "    <tr>\n",
       "      <td>6</td>\n",
       "      <td>6</td>\n",
       "      <td>The Lion King</td>\n",
       "      <td>America</td>\n",
       "      <td>Animation Drama</td>\n",
       "      <td>3</td>\n",
       "    </tr>\n",
       "    <tr>\n",
       "      <td>7</td>\n",
       "      <td>7</td>\n",
       "      <td>Aladdin</td>\n",
       "      <td>America</td>\n",
       "      <td>Drama Animation</td>\n",
       "      <td>4</td>\n",
       "    </tr>\n",
       "    <tr>\n",
       "      <td>8</td>\n",
       "      <td>8</td>\n",
       "      <td>Spiderman: Far From Home</td>\n",
       "      <td>America</td>\n",
       "      <td>Superhero Action</td>\n",
       "      <td>3</td>\n",
       "    </tr>\n",
       "    <tr>\n",
       "      <td>9</td>\n",
       "      <td>9</td>\n",
       "      <td>Captain Marvel</td>\n",
       "      <td>America</td>\n",
       "      <td>Superhero Action</td>\n",
       "      <td>3</td>\n",
       "    </tr>\n",
       "  </tbody>\n",
       "</table>\n",
       "</div>"
      ],
      "text/plain": [
       "   Unnamed: 0                     Movie    Country             Genre  Ratings\n",
       "0           0    Ada Apa dengan Cinta 2  Indonesia     Romance Drama        3\n",
       "1           1                   Gundala  Indonesia  Action Superhero        4\n",
       "2           2                Dilan 1991  Indonesia     Romance Drama        4\n",
       "3           3             Bumi Manusia   Indonesia      Drama Action        3\n",
       "4           4            Dua Garis Biru  Indonesia     Drama Romance        2\n",
       "5           5        Avengers: End Game    America  Superhero Action        4\n",
       "6           6             The Lion King    America   Animation Drama        3\n",
       "7           7                   Aladdin    America   Drama Animation        4\n",
       "8           8  Spiderman: Far From Home    America  Superhero Action        3\n",
       "9           9            Captain Marvel    America  Superhero Action        3"
      ]
     },
     "execution_count": 4,
     "metadata": {},
     "output_type": "execute_result"
    }
   ],
   "source": [
    "data=pd.read_csv('Movie.csv')\n",
    "data"
   ]
  },
  {
   "cell_type": "markdown",
   "metadata": {},
   "source": [
    "#### Drop unuse columns"
   ]
  },
  {
   "cell_type": "code",
   "execution_count": 5,
   "metadata": {
    "scrolled": false
   },
   "outputs": [
    {
     "data": {
      "text/html": [
       "<div>\n",
       "<style scoped>\n",
       "    .dataframe tbody tr th:only-of-type {\n",
       "        vertical-align: middle;\n",
       "    }\n",
       "\n",
       "    .dataframe tbody tr th {\n",
       "        vertical-align: top;\n",
       "    }\n",
       "\n",
       "    .dataframe thead th {\n",
       "        text-align: right;\n",
       "    }\n",
       "</style>\n",
       "<table border=\"1\" class=\"dataframe\">\n",
       "  <thead>\n",
       "    <tr style=\"text-align: right;\">\n",
       "      <th></th>\n",
       "      <th>Movie</th>\n",
       "      <th>Country</th>\n",
       "      <th>Genre</th>\n",
       "      <th>Ratings</th>\n",
       "    </tr>\n",
       "  </thead>\n",
       "  <tbody>\n",
       "    <tr>\n",
       "      <td>0</td>\n",
       "      <td>Ada Apa dengan Cinta 2</td>\n",
       "      <td>Indonesia</td>\n",
       "      <td>Romance Drama</td>\n",
       "      <td>3</td>\n",
       "    </tr>\n",
       "    <tr>\n",
       "      <td>1</td>\n",
       "      <td>Gundala</td>\n",
       "      <td>Indonesia</td>\n",
       "      <td>Action Superhero</td>\n",
       "      <td>4</td>\n",
       "    </tr>\n",
       "    <tr>\n",
       "      <td>2</td>\n",
       "      <td>Dilan 1991</td>\n",
       "      <td>Indonesia</td>\n",
       "      <td>Romance Drama</td>\n",
       "      <td>4</td>\n",
       "    </tr>\n",
       "    <tr>\n",
       "      <td>3</td>\n",
       "      <td>Bumi Manusia</td>\n",
       "      <td>Indonesia</td>\n",
       "      <td>Drama Action</td>\n",
       "      <td>3</td>\n",
       "    </tr>\n",
       "    <tr>\n",
       "      <td>4</td>\n",
       "      <td>Dua Garis Biru</td>\n",
       "      <td>Indonesia</td>\n",
       "      <td>Drama Romance</td>\n",
       "      <td>2</td>\n",
       "    </tr>\n",
       "    <tr>\n",
       "      <td>5</td>\n",
       "      <td>Avengers: End Game</td>\n",
       "      <td>America</td>\n",
       "      <td>Superhero Action</td>\n",
       "      <td>4</td>\n",
       "    </tr>\n",
       "    <tr>\n",
       "      <td>6</td>\n",
       "      <td>The Lion King</td>\n",
       "      <td>America</td>\n",
       "      <td>Animation Drama</td>\n",
       "      <td>3</td>\n",
       "    </tr>\n",
       "    <tr>\n",
       "      <td>7</td>\n",
       "      <td>Aladdin</td>\n",
       "      <td>America</td>\n",
       "      <td>Drama Animation</td>\n",
       "      <td>4</td>\n",
       "    </tr>\n",
       "    <tr>\n",
       "      <td>8</td>\n",
       "      <td>Spiderman: Far From Home</td>\n",
       "      <td>America</td>\n",
       "      <td>Superhero Action</td>\n",
       "      <td>3</td>\n",
       "    </tr>\n",
       "    <tr>\n",
       "      <td>9</td>\n",
       "      <td>Captain Marvel</td>\n",
       "      <td>America</td>\n",
       "      <td>Superhero Action</td>\n",
       "      <td>3</td>\n",
       "    </tr>\n",
       "  </tbody>\n",
       "</table>\n",
       "</div>"
      ],
      "text/plain": [
       "                      Movie    Country             Genre  Ratings\n",
       "0    Ada Apa dengan Cinta 2  Indonesia     Romance Drama        3\n",
       "1                   Gundala  Indonesia  Action Superhero        4\n",
       "2                Dilan 1991  Indonesia     Romance Drama        4\n",
       "3             Bumi Manusia   Indonesia      Drama Action        3\n",
       "4            Dua Garis Biru  Indonesia     Drama Romance        2\n",
       "5        Avengers: End Game    America  Superhero Action        4\n",
       "6             The Lion King    America   Animation Drama        3\n",
       "7                   Aladdin    America   Drama Animation        4\n",
       "8  Spiderman: Far From Home    America  Superhero Action        3\n",
       "9            Captain Marvel    America  Superhero Action        3"
      ]
     },
     "execution_count": 5,
     "metadata": {},
     "output_type": "execute_result"
    }
   ],
   "source": [
    "data=data.drop(columns=data.columns[0])\n",
    "data"
   ]
  },
  {
   "cell_type": "markdown",
   "metadata": {},
   "source": [
    "#### Set 'Movie' as index"
   ]
  },
  {
   "cell_type": "code",
   "execution_count": 6,
   "metadata": {
    "scrolled": false
   },
   "outputs": [
    {
     "data": {
      "text/html": [
       "<div>\n",
       "<style scoped>\n",
       "    .dataframe tbody tr th:only-of-type {\n",
       "        vertical-align: middle;\n",
       "    }\n",
       "\n",
       "    .dataframe tbody tr th {\n",
       "        vertical-align: top;\n",
       "    }\n",
       "\n",
       "    .dataframe thead th {\n",
       "        text-align: right;\n",
       "    }\n",
       "</style>\n",
       "<table border=\"1\" class=\"dataframe\">\n",
       "  <thead>\n",
       "    <tr style=\"text-align: right;\">\n",
       "      <th></th>\n",
       "      <th>Country</th>\n",
       "      <th>Genre</th>\n",
       "      <th>Ratings</th>\n",
       "    </tr>\n",
       "    <tr>\n",
       "      <th>Movie</th>\n",
       "      <th></th>\n",
       "      <th></th>\n",
       "      <th></th>\n",
       "    </tr>\n",
       "  </thead>\n",
       "  <tbody>\n",
       "    <tr>\n",
       "      <td>Ada Apa dengan Cinta 2</td>\n",
       "      <td>Indonesia</td>\n",
       "      <td>Romance Drama</td>\n",
       "      <td>3</td>\n",
       "    </tr>\n",
       "    <tr>\n",
       "      <td>Gundala</td>\n",
       "      <td>Indonesia</td>\n",
       "      <td>Action Superhero</td>\n",
       "      <td>4</td>\n",
       "    </tr>\n",
       "    <tr>\n",
       "      <td>Dilan 1991</td>\n",
       "      <td>Indonesia</td>\n",
       "      <td>Romance Drama</td>\n",
       "      <td>4</td>\n",
       "    </tr>\n",
       "    <tr>\n",
       "      <td>Bumi Manusia</td>\n",
       "      <td>Indonesia</td>\n",
       "      <td>Drama Action</td>\n",
       "      <td>3</td>\n",
       "    </tr>\n",
       "    <tr>\n",
       "      <td>Dua Garis Biru</td>\n",
       "      <td>Indonesia</td>\n",
       "      <td>Drama Romance</td>\n",
       "      <td>2</td>\n",
       "    </tr>\n",
       "  </tbody>\n",
       "</table>\n",
       "</div>"
      ],
      "text/plain": [
       "                          Country             Genre  Ratings\n",
       "Movie                                                       \n",
       "Ada Apa dengan Cinta 2  Indonesia     Romance Drama        3\n",
       "Gundala                 Indonesia  Action Superhero        4\n",
       "Dilan 1991              Indonesia     Romance Drama        4\n",
       "Bumi Manusia            Indonesia      Drama Action        3\n",
       "Dua Garis Biru          Indonesia     Drama Romance        2"
      ]
     },
     "execution_count": 6,
     "metadata": {},
     "output_type": "execute_result"
    }
   ],
   "source": [
    "data=data.set_index('Movie')\n",
    "data.head()"
   ]
  },
  {
   "cell_type": "markdown",
   "metadata": {},
   "source": [
    "#### Count Missing Value"
   ]
  },
  {
   "cell_type": "code",
   "execution_count": 7,
   "metadata": {
    "scrolled": true
   },
   "outputs": [
    {
     "name": "stdout",
     "output_type": "stream",
     "text": [
      "Ratings    0\n",
      "Genre      0\n",
      "Country    0\n",
      "dtype: int64\n"
     ]
    }
   ],
   "source": [
    "count_missing = data.isnull().sum().sort_values(ascending = False)\n",
    "print(count_missing)"
   ]
  },
  {
   "cell_type": "markdown",
   "metadata": {},
   "source": [
    "#### Get data user"
   ]
  },
  {
   "cell_type": "code",
   "execution_count": 8,
   "metadata": {},
   "outputs": [
    {
     "data": {
      "text/html": [
       "<div>\n",
       "<style scoped>\n",
       "    .dataframe tbody tr th:only-of-type {\n",
       "        vertical-align: middle;\n",
       "    }\n",
       "\n",
       "    .dataframe tbody tr th {\n",
       "        vertical-align: top;\n",
       "    }\n",
       "\n",
       "    .dataframe thead th {\n",
       "        text-align: right;\n",
       "    }\n",
       "</style>\n",
       "<table border=\"1\" class=\"dataframe\">\n",
       "  <thead>\n",
       "    <tr style=\"text-align: right;\">\n",
       "      <th></th>\n",
       "      <th>Timestamp</th>\n",
       "      <th>Nama Anda</th>\n",
       "      <th>Ada Apa dengan Cinta 2</th>\n",
       "      <th>Gundala</th>\n",
       "      <th>Dilan 1991</th>\n",
       "      <th>Bumi Manusia</th>\n",
       "      <th>Dua Garis Biru</th>\n",
       "      <th>Avengers: End Game</th>\n",
       "      <th>The Lion King</th>\n",
       "      <th>Aladdin</th>\n",
       "      <th>Spiderman: Far From Home</th>\n",
       "      <th>Captain Marvel</th>\n",
       "    </tr>\n",
       "  </thead>\n",
       "  <tbody>\n",
       "    <tr>\n",
       "      <td>0</td>\n",
       "      <td>2019/09/17 10:18:21 AM GMT+7</td>\n",
       "      <td>Hania</td>\n",
       "      <td>3.0</td>\n",
       "      <td>5.0</td>\n",
       "      <td>4.0</td>\n",
       "      <td>4.0</td>\n",
       "      <td>4.0</td>\n",
       "      <td>NaN</td>\n",
       "      <td>NaN</td>\n",
       "      <td>NaN</td>\n",
       "      <td>NaN</td>\n",
       "      <td>NaN</td>\n",
       "    </tr>\n",
       "    <tr>\n",
       "      <td>1</td>\n",
       "      <td>2019/09/17 10:18:37 AM GMT+7</td>\n",
       "      <td>Topik Zulkarnain</td>\n",
       "      <td>NaN</td>\n",
       "      <td>NaN</td>\n",
       "      <td>NaN</td>\n",
       "      <td>NaN</td>\n",
       "      <td>NaN</td>\n",
       "      <td>5.0</td>\n",
       "      <td>5.0</td>\n",
       "      <td>NaN</td>\n",
       "      <td>4.0</td>\n",
       "      <td>2.0</td>\n",
       "    </tr>\n",
       "    <tr>\n",
       "      <td>2</td>\n",
       "      <td>2019/09/17 10:18:39 AM GMT+7</td>\n",
       "      <td>AhokTemanFirli</td>\n",
       "      <td>NaN</td>\n",
       "      <td>NaN</td>\n",
       "      <td>NaN</td>\n",
       "      <td>NaN</td>\n",
       "      <td>NaN</td>\n",
       "      <td>3.0</td>\n",
       "      <td>NaN</td>\n",
       "      <td>NaN</td>\n",
       "      <td>NaN</td>\n",
       "      <td>4.0</td>\n",
       "    </tr>\n",
       "    <tr>\n",
       "      <td>3</td>\n",
       "      <td>2019/09/17 10:18:42 AM GMT+7</td>\n",
       "      <td>franadek</td>\n",
       "      <td>4.0</td>\n",
       "      <td>4.0</td>\n",
       "      <td>4.0</td>\n",
       "      <td>5.0</td>\n",
       "      <td>3.0</td>\n",
       "      <td>5.0</td>\n",
       "      <td>4.0</td>\n",
       "      <td>5.0</td>\n",
       "      <td>4.0</td>\n",
       "      <td>4.0</td>\n",
       "    </tr>\n",
       "    <tr>\n",
       "      <td>4</td>\n",
       "      <td>2019/09/17 10:19:01 AM GMT+7</td>\n",
       "      <td>OM INDRA</td>\n",
       "      <td>3.0</td>\n",
       "      <td>NaN</td>\n",
       "      <td>2.0</td>\n",
       "      <td>NaN</td>\n",
       "      <td>5.0</td>\n",
       "      <td>5.0</td>\n",
       "      <td>NaN</td>\n",
       "      <td>1.0</td>\n",
       "      <td>5.0</td>\n",
       "      <td>5.0</td>\n",
       "    </tr>\n",
       "  </tbody>\n",
       "</table>\n",
       "</div>"
      ],
      "text/plain": [
       "                      Timestamp         Nama Anda  Ada Apa dengan Cinta 2  \\\n",
       "0  2019/09/17 10:18:21 AM GMT+7             Hania                     3.0   \n",
       "1  2019/09/17 10:18:37 AM GMT+7  Topik Zulkarnain                     NaN   \n",
       "2  2019/09/17 10:18:39 AM GMT+7    AhokTemanFirli                     NaN   \n",
       "3  2019/09/17 10:18:42 AM GMT+7          franadek                     4.0   \n",
       "4  2019/09/17 10:19:01 AM GMT+7          OM INDRA                     3.0   \n",
       "\n",
       "   Gundala  Dilan 1991  Bumi Manusia   Dua Garis Biru  Avengers: End Game  \\\n",
       "0      5.0         4.0            4.0             4.0                 NaN   \n",
       "1      NaN         NaN            NaN             NaN                 5.0   \n",
       "2      NaN         NaN            NaN             NaN                 3.0   \n",
       "3      4.0         4.0            5.0             3.0                 5.0   \n",
       "4      NaN         2.0            NaN             5.0                 5.0   \n",
       "\n",
       "   The Lion King  Aladdin  Spiderman: Far From Home  Captain Marvel  \n",
       "0            NaN      NaN                       NaN             NaN  \n",
       "1            5.0      NaN                       4.0             2.0  \n",
       "2            NaN      NaN                       NaN             4.0  \n",
       "3            4.0      5.0                       4.0             4.0  \n",
       "4            NaN      1.0                       5.0             5.0  "
      ]
     },
     "execution_count": 8,
     "metadata": {},
     "output_type": "execute_result"
    }
   ],
   "source": [
    "data2=pd.read_csv('user.csv')\n",
    "data2.head()"
   ]
  },
  {
   "cell_type": "markdown",
   "metadata": {},
   "source": [
    "#### Drop unuse columns"
   ]
  },
  {
   "cell_type": "code",
   "execution_count": 9,
   "metadata": {
    "scrolled": true
   },
   "outputs": [
    {
     "data": {
      "text/html": [
       "<div>\n",
       "<style scoped>\n",
       "    .dataframe tbody tr th:only-of-type {\n",
       "        vertical-align: middle;\n",
       "    }\n",
       "\n",
       "    .dataframe tbody tr th {\n",
       "        vertical-align: top;\n",
       "    }\n",
       "\n",
       "    .dataframe thead th {\n",
       "        text-align: right;\n",
       "    }\n",
       "</style>\n",
       "<table border=\"1\" class=\"dataframe\">\n",
       "  <thead>\n",
       "    <tr style=\"text-align: right;\">\n",
       "      <th></th>\n",
       "      <th>Nama Anda</th>\n",
       "      <th>Ada Apa dengan Cinta 2</th>\n",
       "      <th>Gundala</th>\n",
       "      <th>Dilan 1991</th>\n",
       "      <th>Bumi Manusia</th>\n",
       "      <th>Dua Garis Biru</th>\n",
       "      <th>Avengers: End Game</th>\n",
       "      <th>The Lion King</th>\n",
       "      <th>Aladdin</th>\n",
       "      <th>Spiderman: Far From Home</th>\n",
       "      <th>Captain Marvel</th>\n",
       "    </tr>\n",
       "  </thead>\n",
       "  <tbody>\n",
       "    <tr>\n",
       "      <td>0</td>\n",
       "      <td>Hania</td>\n",
       "      <td>3.0</td>\n",
       "      <td>5.0</td>\n",
       "      <td>4.0</td>\n",
       "      <td>4.0</td>\n",
       "      <td>4.0</td>\n",
       "      <td>NaN</td>\n",
       "      <td>NaN</td>\n",
       "      <td>NaN</td>\n",
       "      <td>NaN</td>\n",
       "      <td>NaN</td>\n",
       "    </tr>\n",
       "    <tr>\n",
       "      <td>1</td>\n",
       "      <td>Topik Zulkarnain</td>\n",
       "      <td>NaN</td>\n",
       "      <td>NaN</td>\n",
       "      <td>NaN</td>\n",
       "      <td>NaN</td>\n",
       "      <td>NaN</td>\n",
       "      <td>5.0</td>\n",
       "      <td>5.0</td>\n",
       "      <td>NaN</td>\n",
       "      <td>4.0</td>\n",
       "      <td>2.0</td>\n",
       "    </tr>\n",
       "    <tr>\n",
       "      <td>2</td>\n",
       "      <td>AhokTemanFirli</td>\n",
       "      <td>NaN</td>\n",
       "      <td>NaN</td>\n",
       "      <td>NaN</td>\n",
       "      <td>NaN</td>\n",
       "      <td>NaN</td>\n",
       "      <td>3.0</td>\n",
       "      <td>NaN</td>\n",
       "      <td>NaN</td>\n",
       "      <td>NaN</td>\n",
       "      <td>4.0</td>\n",
       "    </tr>\n",
       "    <tr>\n",
       "      <td>3</td>\n",
       "      <td>franadek</td>\n",
       "      <td>4.0</td>\n",
       "      <td>4.0</td>\n",
       "      <td>4.0</td>\n",
       "      <td>5.0</td>\n",
       "      <td>3.0</td>\n",
       "      <td>5.0</td>\n",
       "      <td>4.0</td>\n",
       "      <td>5.0</td>\n",
       "      <td>4.0</td>\n",
       "      <td>4.0</td>\n",
       "    </tr>\n",
       "    <tr>\n",
       "      <td>4</td>\n",
       "      <td>OM INDRA</td>\n",
       "      <td>3.0</td>\n",
       "      <td>NaN</td>\n",
       "      <td>2.0</td>\n",
       "      <td>NaN</td>\n",
       "      <td>5.0</td>\n",
       "      <td>5.0</td>\n",
       "      <td>NaN</td>\n",
       "      <td>1.0</td>\n",
       "      <td>5.0</td>\n",
       "      <td>5.0</td>\n",
       "    </tr>\n",
       "  </tbody>\n",
       "</table>\n",
       "</div>"
      ],
      "text/plain": [
       "          Nama Anda  Ada Apa dengan Cinta 2  Gundala  Dilan 1991  \\\n",
       "0             Hania                     3.0      5.0         4.0   \n",
       "1  Topik Zulkarnain                     NaN      NaN         NaN   \n",
       "2    AhokTemanFirli                     NaN      NaN         NaN   \n",
       "3          franadek                     4.0      4.0         4.0   \n",
       "4          OM INDRA                     3.0      NaN         2.0   \n",
       "\n",
       "   Bumi Manusia   Dua Garis Biru  Avengers: End Game  The Lion King  Aladdin  \\\n",
       "0            4.0             4.0                 NaN            NaN      NaN   \n",
       "1            NaN             NaN                 5.0            5.0      NaN   \n",
       "2            NaN             NaN                 3.0            NaN      NaN   \n",
       "3            5.0             3.0                 5.0            4.0      5.0   \n",
       "4            NaN             5.0                 5.0            NaN      1.0   \n",
       "\n",
       "   Spiderman: Far From Home  Captain Marvel  \n",
       "0                       NaN             NaN  \n",
       "1                       4.0             2.0  \n",
       "2                       NaN             4.0  \n",
       "3                       4.0             4.0  \n",
       "4                       5.0             5.0  "
      ]
     },
     "execution_count": 9,
     "metadata": {},
     "output_type": "execute_result"
    }
   ],
   "source": [
    "data2=data2.drop(columns=data2.columns[0])\n",
    "data2.head()"
   ]
  },
  {
   "cell_type": "markdown",
   "metadata": {},
   "source": [
    "#### Count missing value"
   ]
  },
  {
   "cell_type": "code",
   "execution_count": 10,
   "metadata": {
    "scrolled": true
   },
   "outputs": [
    {
     "name": "stdout",
     "output_type": "stream",
     "text": [
      "Bumi Manusia                18\n",
      "Dua Garis Biru              15\n",
      "The Lion King               13\n",
      "Gundala                     11\n",
      "Aladdin                     10\n",
      "Dilan 1991                  10\n",
      "Spiderman: Far From Home     8\n",
      "Ada Apa dengan Cinta 2       7\n",
      "Captain Marvel               6\n",
      "Avengers: End Game           5\n",
      "Nama Anda                    0\n",
      "dtype: int64\n"
     ]
    }
   ],
   "source": [
    "count_missing = data2.isnull().sum().sort_values(ascending = False)\n",
    "print(count_missing)"
   ]
  },
  {
   "cell_type": "markdown",
   "metadata": {},
   "source": [
    "#### Fill the missing value"
   ]
  },
  {
   "cell_type": "code",
   "execution_count": 11,
   "metadata": {
    "scrolled": true
   },
   "outputs": [
    {
     "data": {
      "text/html": [
       "<div>\n",
       "<style scoped>\n",
       "    .dataframe tbody tr th:only-of-type {\n",
       "        vertical-align: middle;\n",
       "    }\n",
       "\n",
       "    .dataframe tbody tr th {\n",
       "        vertical-align: top;\n",
       "    }\n",
       "\n",
       "    .dataframe thead th {\n",
       "        text-align: right;\n",
       "    }\n",
       "</style>\n",
       "<table border=\"1\" class=\"dataframe\">\n",
       "  <thead>\n",
       "    <tr style=\"text-align: right;\">\n",
       "      <th></th>\n",
       "      <th>Nama Anda</th>\n",
       "      <th>Ada Apa dengan Cinta 2</th>\n",
       "      <th>Gundala</th>\n",
       "      <th>Dilan 1991</th>\n",
       "      <th>Bumi Manusia</th>\n",
       "      <th>Dua Garis Biru</th>\n",
       "      <th>Avengers: End Game</th>\n",
       "      <th>The Lion King</th>\n",
       "      <th>Aladdin</th>\n",
       "      <th>Spiderman: Far From Home</th>\n",
       "      <th>Captain Marvel</th>\n",
       "    </tr>\n",
       "  </thead>\n",
       "  <tbody>\n",
       "    <tr>\n",
       "      <td>0</td>\n",
       "      <td>Hania</td>\n",
       "      <td>3.0</td>\n",
       "      <td>5.0</td>\n",
       "      <td>4.0</td>\n",
       "      <td>4.0</td>\n",
       "      <td>4.0</td>\n",
       "      <td>0.0</td>\n",
       "      <td>0.0</td>\n",
       "      <td>0.0</td>\n",
       "      <td>0.0</td>\n",
       "      <td>0.0</td>\n",
       "    </tr>\n",
       "    <tr>\n",
       "      <td>1</td>\n",
       "      <td>Topik Zulkarnain</td>\n",
       "      <td>0.0</td>\n",
       "      <td>0.0</td>\n",
       "      <td>0.0</td>\n",
       "      <td>0.0</td>\n",
       "      <td>0.0</td>\n",
       "      <td>5.0</td>\n",
       "      <td>5.0</td>\n",
       "      <td>0.0</td>\n",
       "      <td>4.0</td>\n",
       "      <td>2.0</td>\n",
       "    </tr>\n",
       "    <tr>\n",
       "      <td>2</td>\n",
       "      <td>AhokTemanFirli</td>\n",
       "      <td>0.0</td>\n",
       "      <td>0.0</td>\n",
       "      <td>0.0</td>\n",
       "      <td>0.0</td>\n",
       "      <td>0.0</td>\n",
       "      <td>3.0</td>\n",
       "      <td>0.0</td>\n",
       "      <td>0.0</td>\n",
       "      <td>0.0</td>\n",
       "      <td>4.0</td>\n",
       "    </tr>\n",
       "    <tr>\n",
       "      <td>3</td>\n",
       "      <td>franadek</td>\n",
       "      <td>4.0</td>\n",
       "      <td>4.0</td>\n",
       "      <td>4.0</td>\n",
       "      <td>5.0</td>\n",
       "      <td>3.0</td>\n",
       "      <td>5.0</td>\n",
       "      <td>4.0</td>\n",
       "      <td>5.0</td>\n",
       "      <td>4.0</td>\n",
       "      <td>4.0</td>\n",
       "    </tr>\n",
       "    <tr>\n",
       "      <td>4</td>\n",
       "      <td>OM INDRA</td>\n",
       "      <td>3.0</td>\n",
       "      <td>0.0</td>\n",
       "      <td>2.0</td>\n",
       "      <td>0.0</td>\n",
       "      <td>5.0</td>\n",
       "      <td>5.0</td>\n",
       "      <td>0.0</td>\n",
       "      <td>1.0</td>\n",
       "      <td>5.0</td>\n",
       "      <td>5.0</td>\n",
       "    </tr>\n",
       "  </tbody>\n",
       "</table>\n",
       "</div>"
      ],
      "text/plain": [
       "          Nama Anda  Ada Apa dengan Cinta 2  Gundala  Dilan 1991  \\\n",
       "0             Hania                     3.0      5.0         4.0   \n",
       "1  Topik Zulkarnain                     0.0      0.0         0.0   \n",
       "2    AhokTemanFirli                     0.0      0.0         0.0   \n",
       "3          franadek                     4.0      4.0         4.0   \n",
       "4          OM INDRA                     3.0      0.0         2.0   \n",
       "\n",
       "   Bumi Manusia   Dua Garis Biru  Avengers: End Game  The Lion King  Aladdin  \\\n",
       "0            4.0             4.0                 0.0            0.0      0.0   \n",
       "1            0.0             0.0                 5.0            5.0      0.0   \n",
       "2            0.0             0.0                 3.0            0.0      0.0   \n",
       "3            5.0             3.0                 5.0            4.0      5.0   \n",
       "4            0.0             5.0                 5.0            0.0      1.0   \n",
       "\n",
       "   Spiderman: Far From Home  Captain Marvel  \n",
       "0                       0.0             0.0  \n",
       "1                       4.0             2.0  \n",
       "2                       0.0             4.0  \n",
       "3                       4.0             4.0  \n",
       "4                       5.0             5.0  "
      ]
     },
     "execution_count": 11,
     "metadata": {},
     "output_type": "execute_result"
    }
   ],
   "source": [
    "data2=data2.fillna(0)\n",
    "data2.head()"
   ]
  },
  {
   "cell_type": "markdown",
   "metadata": {},
   "source": [
    "#### Initialize variabel datasett"
   ]
  },
  {
   "cell_type": "code",
   "execution_count": 12,
   "metadata": {
    "scrolled": true
   },
   "outputs": [
    {
     "data": {
      "text/html": [
       "<div>\n",
       "<style scoped>\n",
       "    .dataframe tbody tr th:only-of-type {\n",
       "        vertical-align: middle;\n",
       "    }\n",
       "\n",
       "    .dataframe tbody tr th {\n",
       "        vertical-align: top;\n",
       "    }\n",
       "\n",
       "    .dataframe thead th {\n",
       "        text-align: right;\n",
       "    }\n",
       "</style>\n",
       "<table border=\"1\" class=\"dataframe\">\n",
       "  <thead>\n",
       "    <tr style=\"text-align: right;\">\n",
       "      <th></th>\n",
       "      <th>Ada Apa dengan Cinta 2</th>\n",
       "      <th>Gundala</th>\n",
       "      <th>Dilan 1991</th>\n",
       "      <th>Bumi Manusia</th>\n",
       "      <th>Dua Garis Biru</th>\n",
       "      <th>Avengers: End Game</th>\n",
       "      <th>The Lion King</th>\n",
       "      <th>Aladdin</th>\n",
       "      <th>Spiderman: Far From Home</th>\n",
       "      <th>Captain Marvel</th>\n",
       "    </tr>\n",
       "    <tr>\n",
       "      <th>Nama Anda</th>\n",
       "      <th></th>\n",
       "      <th></th>\n",
       "      <th></th>\n",
       "      <th></th>\n",
       "      <th></th>\n",
       "      <th></th>\n",
       "      <th></th>\n",
       "      <th></th>\n",
       "      <th></th>\n",
       "      <th></th>\n",
       "    </tr>\n",
       "  </thead>\n",
       "  <tbody>\n",
       "    <tr>\n",
       "      <td>Hania</td>\n",
       "      <td>3.0</td>\n",
       "      <td>5.0</td>\n",
       "      <td>4.0</td>\n",
       "      <td>4.0</td>\n",
       "      <td>4.0</td>\n",
       "      <td>0.0</td>\n",
       "      <td>0.0</td>\n",
       "      <td>0.0</td>\n",
       "      <td>0.0</td>\n",
       "      <td>0.0</td>\n",
       "    </tr>\n",
       "    <tr>\n",
       "      <td>Topik Zulkarnain</td>\n",
       "      <td>0.0</td>\n",
       "      <td>0.0</td>\n",
       "      <td>0.0</td>\n",
       "      <td>0.0</td>\n",
       "      <td>0.0</td>\n",
       "      <td>5.0</td>\n",
       "      <td>5.0</td>\n",
       "      <td>0.0</td>\n",
       "      <td>4.0</td>\n",
       "      <td>2.0</td>\n",
       "    </tr>\n",
       "    <tr>\n",
       "      <td>AhokTemanFirli</td>\n",
       "      <td>0.0</td>\n",
       "      <td>0.0</td>\n",
       "      <td>0.0</td>\n",
       "      <td>0.0</td>\n",
       "      <td>0.0</td>\n",
       "      <td>3.0</td>\n",
       "      <td>0.0</td>\n",
       "      <td>0.0</td>\n",
       "      <td>0.0</td>\n",
       "      <td>4.0</td>\n",
       "    </tr>\n",
       "    <tr>\n",
       "      <td>franadek</td>\n",
       "      <td>4.0</td>\n",
       "      <td>4.0</td>\n",
       "      <td>4.0</td>\n",
       "      <td>5.0</td>\n",
       "      <td>3.0</td>\n",
       "      <td>5.0</td>\n",
       "      <td>4.0</td>\n",
       "      <td>5.0</td>\n",
       "      <td>4.0</td>\n",
       "      <td>4.0</td>\n",
       "    </tr>\n",
       "    <tr>\n",
       "      <td>OM INDRA</td>\n",
       "      <td>3.0</td>\n",
       "      <td>0.0</td>\n",
       "      <td>2.0</td>\n",
       "      <td>0.0</td>\n",
       "      <td>5.0</td>\n",
       "      <td>5.0</td>\n",
       "      <td>0.0</td>\n",
       "      <td>1.0</td>\n",
       "      <td>5.0</td>\n",
       "      <td>5.0</td>\n",
       "    </tr>\n",
       "  </tbody>\n",
       "</table>\n",
       "</div>"
      ],
      "text/plain": [
       "                  Ada Apa dengan Cinta 2  Gundala  Dilan 1991  Bumi Manusia   \\\n",
       "Nama Anda                                                                      \n",
       "Hania                                3.0      5.0         4.0            4.0   \n",
       "Topik Zulkarnain                     0.0      0.0         0.0            0.0   \n",
       "AhokTemanFirli                       0.0      0.0         0.0            0.0   \n",
       "franadek                             4.0      4.0         4.0            5.0   \n",
       "OM INDRA                             3.0      0.0         2.0            0.0   \n",
       "\n",
       "                  Dua Garis Biru  Avengers: End Game  The Lion King  Aladdin  \\\n",
       "Nama Anda                                                                      \n",
       "Hania                        4.0                 0.0            0.0      0.0   \n",
       "Topik Zulkarnain             0.0                 5.0            5.0      0.0   \n",
       "AhokTemanFirli               0.0                 3.0            0.0      0.0   \n",
       "franadek                     3.0                 5.0            4.0      5.0   \n",
       "OM INDRA                     5.0                 5.0            0.0      1.0   \n",
       "\n",
       "                  Spiderman: Far From Home  Captain Marvel  \n",
       "Nama Anda                                                   \n",
       "Hania                                  0.0             0.0  \n",
       "Topik Zulkarnain                       4.0             2.0  \n",
       "AhokTemanFirli                         0.0             4.0  \n",
       "franadek                               4.0             4.0  \n",
       "OM INDRA                               5.0             5.0  "
      ]
     },
     "execution_count": 12,
     "metadata": {},
     "output_type": "execute_result"
    }
   ],
   "source": [
    "datasett=data2.set_index('Nama Anda')\n",
    "datasett.head()"
   ]
  },
  {
   "cell_type": "markdown",
   "metadata": {},
   "source": [
    "## Data Visualization\n",
    "Visualisasi dibawah ini digunakan untuk memudahkan dalam melihat jumlah rating dari film-film, selain itu dapat dilihat pula genre film yang paling banyak."
   ]
  },
  {
   "cell_type": "code",
   "execution_count": 31,
   "metadata": {},
   "outputs": [
    {
     "data": {
      "text/plain": [
       "<matplotlib.axes._subplots.AxesSubplot at 0x1ce0194fa58>"
      ]
     },
     "execution_count": 31,
     "metadata": {},
     "output_type": "execute_result"
    },
    {
     "data": {
      "image/png": "[encoded data removed]",
      "text/plain": [
       "<Figure size 720x576 with 4 Axes>"
      ]
     },
     "metadata": {},
     "output_type": "display_data"
    }
   ],
   "source": [
    "f=plt.figure(figsize=(10,8))\n",
    "f.add_subplot(2,2,1)\n",
    "sns.countplot(data2['Ada Apa dengan Cinta 2'],order=data2['Ada Apa dengan Cinta 2'].value_counts().index)\n",
    "f.add_subplot(2,2,2)\n",
    "sns.countplot(data2['Gundala'],order=data2['Gundala'].value_counts().index)\n",
    "f.add_subplot(2,2,3)\n",
    "sns.countplot(data2['Dilan 1991'],order=data2['Dilan 1991'].value_counts().index)\n",
    "f.add_subplot(2,2,4)\n",
    "sns.countplot(data2['Bumi Manusia '],order=data2['Bumi Manusia '].value_counts().index)"
   ]
  },
  {
   "cell_type": "code",
   "execution_count": 34,
   "metadata": {},
   "outputs": [
    {
     "data": {
      "text/plain": [
       "<matplotlib.axes._subplots.AxesSubplot at 0x1ce01d3b828>"
      ]
     },
     "execution_count": 34,
     "metadata": {},
     "output_type": "execute_result"
    },
    {
     "data": {
      "image/png": "[encoded data removed]",
      "text/plain": [
       "<Figure size 720x576 with 4 Axes>"
      ]
     },
     "metadata": {},
     "output_type": "display_data"
    }
   ],
   "source": [
    "f=plt.figure(figsize=(10,8))\n",
    "f.add_subplot(2,2,1)\n",
    "sns.countplot(data2['Dua Garis Biru'],order=data2['Dua Garis Biru'].value_counts().index)\n",
    "f.add_subplot(2,2,2)\n",
    "sns.countplot(data2['Avengers: End Game'],order=data2['Avengers: End Game'].value_counts().index)\n",
    "f.add_subplot(2,2,3)\n",
    "sns.countplot(data2['The Lion King'],order=data2['The Lion King'].value_counts().index)\n",
    "f.add_subplot(2,2,4)\n",
    "sns.countplot(data2['Aladdin'],order=data2['Aladdin'].value_counts().index)"
   ]
  },
  {
   "cell_type": "code",
   "execution_count": 35,
   "metadata": {},
   "outputs": [
    {
     "data": {
      "text/plain": [
       "<matplotlib.axes._subplots.AxesSubplot at 0x1ce01a29cf8>"
      ]
     },
     "execution_count": 35,
     "metadata": {},
     "output_type": "execute_result"
    },
    {
     "data": {
      "image/png": "[encoded data removed]",
      "text/plain": [
       "<Figure size 720x576 with 2 Axes>"
      ]
     },
     "metadata": {},
     "output_type": "display_data"
    }
   ],
   "source": [
    "f=plt.figure(figsize=(10,8))\n",
    "f.add_subplot(2,2,1)\n",
    "sns.countplot(data2['Spiderman: Far From Home'],order=data2['Spiderman: Far From Home'].value_counts().index)\n",
    "f.add_subplot(2,2,2)\n",
    "sns.countplot(data2['Captain Marvel'],order=data2['Captain Marvel'].value_counts().index)"
   ]
  },
  {
   "cell_type": "code",
   "execution_count": 43,
   "metadata": {},
   "outputs": [
    {
     "data": {
      "text/plain": [
       "<matplotlib.axes._subplots.AxesSubplot at 0x1ce02e7acf8>"
      ]
     },
     "execution_count": 43,
     "metadata": {},
     "output_type": "execute_result"
    },
    {
     "data": {
      "image/png": "[encoded data removed]",
      "text/plain": [
       "<Figure size 1080x576 with 1 Axes>"
      ]
     },
     "metadata": {},
     "output_type": "display_data"
    }
   ],
   "source": [
    "plt.figure(figsize=(15,8))\n",
    "sns.countplot(data['Genre'],order=data['Genre'].value_counts().index)"
   ]
  },
  {
   "cell_type": "markdown",
   "metadata": {},
   "source": [
    "## Content-based\n",
    "Pada code dibawah ini akan digunakan untuk mencari rekomendasi untuk user bernama bunga."
   ]
  },
  {
   "cell_type": "code",
   "execution_count": 303,
   "metadata": {},
   "outputs": [],
   "source": [
    "datatest=data2[data2['Nama Anda']=='bunga']"
   ]
  },
  {
   "cell_type": "code",
   "execution_count": 304,
   "metadata": {
    "scrolled": true
   },
   "outputs": [],
   "source": [
    "datatest.set_index(datatest['Nama Anda'], inplace=True)"
   ]
  },
  {
   "cell_type": "code",
   "execution_count": 305,
   "metadata": {
    "scrolled": true
   },
   "outputs": [
    {
     "name": "stderr",
     "output_type": "stream",
     "text": [
      "C:\\Users\\putrib064183\\AppData\\Local\\Continuum\\anaconda3\\lib\\site-packages\\pandas\\core\\frame.py:4102: SettingWithCopyWarning: \n",
      "A value is trying to be set on a copy of a slice from a DataFrame\n",
      "\n",
      "See the caveats in the documentation: http://pandas.pydata.org/pandas-docs/stable/user_guide/indexing.html#returning-a-view-versus-a-copy\n",
      "  errors=errors,\n"
     ]
    }
   ],
   "source": [
    "datatest.drop(columns=['Nama Anda'], inplace=True)"
   ]
  },
  {
   "cell_type": "markdown",
   "metadata": {},
   "source": [
    "#### Separate Unwatched Movie and Watched Movie\n",
    "Code dibawah ini digunakan untuk memisahkan film yang belum ditonton oleh bunga dan film yang telah ditonton oleh bunga"
   ]
  },
  {
   "cell_type": "code",
   "execution_count": 308,
   "metadata": {
    "scrolled": true
   },
   "outputs": [
    {
     "name": "stdout",
     "output_type": "stream",
     "text": [
      "Unwatched Movie = \n",
      "Ada Apa dengan Cinta 2\n",
      "Bumi Manusia \n",
      "Dua Garis Biru\n",
      "-----------------------------\n",
      "Watched Movie = \n",
      "Gundala\n",
      "Dilan 1991\n",
      "Avengers: End Game\n",
      "The Lion King\n",
      "Aladdin\n",
      "Spiderman: Far From Home\n",
      "Captain Marvel\n"
     ]
    }
   ],
   "source": [
    "print ('Unwatched Movie = ')\n",
    "unwatched = []\n",
    "for i in range(len(datatest.columns)):\n",
    "    if datatest.loc['bunga'][i] == 0:\n",
    "        unwatched.append(datatest.columns[i])\n",
    "        print(datatest.columns[i])\n",
    "print ('-----------------------------')\n",
    "print ('Watched Movie = ')\n",
    "watched = []\n",
    "for i in range(len(datatest.columns)):\n",
    "    if datatest.loc['bunga'][i] > 0:\n",
    "        watched.append(datatest.columns[i])\n",
    "        print(datatest.columns[i])"
   ]
  },
  {
   "cell_type": "markdown",
   "metadata": {},
   "source": [
    "#### Merge watched movie and unwatched movie columns and add description\n",
    "Menggabungkan kolom film yang belum ditonton dan yang sudah ditonton oleh bunga. Setelah itu menambahkan kolom baru yaitu kolom description yang berisi gabungan fitur dari sebuah film untuk kemudian dihitung bobotnya."
   ]
  },
  {
   "cell_type": "code",
   "execution_count": 309,
   "metadata": {
    "scrolled": true
   },
   "outputs": [
    {
     "data": {
      "text/html": [
       "<div>\n",
       "<style scoped>\n",
       "    .dataframe tbody tr th:only-of-type {\n",
       "        vertical-align: middle;\n",
       "    }\n",
       "\n",
       "    .dataframe tbody tr th {\n",
       "        vertical-align: top;\n",
       "    }\n",
       "\n",
       "    .dataframe thead th {\n",
       "        text-align: right;\n",
       "    }\n",
       "</style>\n",
       "<table border=\"1\" class=\"dataframe\">\n",
       "  <thead>\n",
       "    <tr style=\"text-align: right;\">\n",
       "      <th></th>\n",
       "      <th>Country</th>\n",
       "      <th>Genre</th>\n",
       "      <th>Ratings</th>\n",
       "      <th>Description</th>\n",
       "    </tr>\n",
       "    <tr>\n",
       "      <th>Movie</th>\n",
       "      <th></th>\n",
       "      <th></th>\n",
       "      <th></th>\n",
       "      <th></th>\n",
       "    </tr>\n",
       "  </thead>\n",
       "  <tbody>\n",
       "    <tr>\n",
       "      <td>Ada Apa dengan Cinta 2</td>\n",
       "      <td>Indonesia</td>\n",
       "      <td>Romance Drama</td>\n",
       "      <td>3</td>\n",
       "      <td>Indonesia Romance Drama</td>\n",
       "    </tr>\n",
       "    <tr>\n",
       "      <td>Bumi Manusia</td>\n",
       "      <td>Indonesia</td>\n",
       "      <td>Drama Action</td>\n",
       "      <td>3</td>\n",
       "      <td>Indonesia Drama Action</td>\n",
       "    </tr>\n",
       "    <tr>\n",
       "      <td>Dua Garis Biru</td>\n",
       "      <td>Indonesia</td>\n",
       "      <td>Drama Romance</td>\n",
       "      <td>2</td>\n",
       "      <td>Indonesia Drama Romance</td>\n",
       "    </tr>\n",
       "    <tr>\n",
       "      <td>Gundala</td>\n",
       "      <td>Indonesia</td>\n",
       "      <td>Action Superhero</td>\n",
       "      <td>4</td>\n",
       "      <td>Indonesia Action Superhero</td>\n",
       "    </tr>\n",
       "    <tr>\n",
       "      <td>Dilan 1991</td>\n",
       "      <td>Indonesia</td>\n",
       "      <td>Romance Drama</td>\n",
       "      <td>4</td>\n",
       "      <td>Indonesia Romance Drama</td>\n",
       "    </tr>\n",
       "    <tr>\n",
       "      <td>Avengers: End Game</td>\n",
       "      <td>America</td>\n",
       "      <td>Superhero Action</td>\n",
       "      <td>4</td>\n",
       "      <td>America Superhero Action</td>\n",
       "    </tr>\n",
       "    <tr>\n",
       "      <td>The Lion King</td>\n",
       "      <td>America</td>\n",
       "      <td>Animation Drama</td>\n",
       "      <td>3</td>\n",
       "      <td>America Animation Drama</td>\n",
       "    </tr>\n",
       "    <tr>\n",
       "      <td>Aladdin</td>\n",
       "      <td>America</td>\n",
       "      <td>Drama Animation</td>\n",
       "      <td>4</td>\n",
       "      <td>America Drama Animation</td>\n",
       "    </tr>\n",
       "    <tr>\n",
       "      <td>Spiderman: Far From Home</td>\n",
       "      <td>America</td>\n",
       "      <td>Superhero Action</td>\n",
       "      <td>3</td>\n",
       "      <td>America Superhero Action</td>\n",
       "    </tr>\n",
       "    <tr>\n",
       "      <td>Captain Marvel</td>\n",
       "      <td>America</td>\n",
       "      <td>Superhero Action</td>\n",
       "      <td>3</td>\n",
       "      <td>America Superhero Action</td>\n",
       "    </tr>\n",
       "  </tbody>\n",
       "</table>\n",
       "</div>"
      ],
      "text/plain": [
       "                            Country             Genre  Ratings  \\\n",
       "Movie                                                            \n",
       "Ada Apa dengan Cinta 2    Indonesia     Romance Drama        3   \n",
       "Bumi Manusia              Indonesia      Drama Action        3   \n",
       "Dua Garis Biru            Indonesia     Drama Romance        2   \n",
       "Gundala                   Indonesia  Action Superhero        4   \n",
       "Dilan 1991                Indonesia     Romance Drama        4   \n",
       "Avengers: End Game          America  Superhero Action        4   \n",
       "The Lion King               America   Animation Drama        3   \n",
       "Aladdin                     America   Drama Animation        4   \n",
       "Spiderman: Far From Home    America  Superhero Action        3   \n",
       "Captain Marvel              America  Superhero Action        3   \n",
       "\n",
       "                                         Description  \n",
       "Movie                                                 \n",
       "Ada Apa dengan Cinta 2       Indonesia Romance Drama  \n",
       "Bumi Manusia                  Indonesia Drama Action  \n",
       "Dua Garis Biru               Indonesia Drama Romance  \n",
       "Gundala                   Indonesia Action Superhero  \n",
       "Dilan 1991                   Indonesia Romance Drama  \n",
       "Avengers: End Game          America Superhero Action  \n",
       "The Lion King                America Animation Drama  \n",
       "Aladdin                      America Drama Animation  \n",
       "Spiderman: Far From Home    America Superhero Action  \n",
       "Captain Marvel              America Superhero Action  "
      ]
     },
     "execution_count": 309,
     "metadata": {},
     "output_type": "execute_result"
    }
   ],
   "source": [
    "merge=pd.concat([data.loc[unwatched],data.loc[watched]],axis=0)\n",
    "merge['Description']=pd.Categorical(merge['Country']+' '+merge['Genre'])\n",
    "merge"
   ]
  },
  {
   "cell_type": "markdown",
   "metadata": {},
   "source": [
    "## TF-IDF\n",
    "Pembobotan menggunakan tfidf untuk mengetahui bobot dari masing-masing film berdasarkan fitur film tersebut."
   ]
  },
  {
   "cell_type": "code",
   "execution_count": 310,
   "metadata": {},
   "outputs": [],
   "source": [
    "tf = TfidfVectorizer(analyzer='word',ngram_range=(1,3),min_df=0)\n",
    "countwatched = tf.fit_transform(merge.loc[watched]['Description'])\n",
    "countunwatched = tf.fit_transform(merge.loc[unwatched]['Description'])\n",
    "count=tf.fit_transform(merge['Description'])"
   ]
  },
  {
   "cell_type": "markdown",
   "metadata": {},
   "source": [
    "## Cosine Similartity\n",
    "Digunakan cosine similarity dengan memanggil package linear kernel untuk melihat kesamaan fitur dari film-film tersebut."
   ]
  },
  {
   "cell_type": "code",
   "execution_count": 311,
   "metadata": {},
   "outputs": [],
   "source": [
    "cosine_similarities = linear_kernel(count, count)\n",
    "result=pd.DataFrame(cosine_similarities,index=arranged_data.index,columns=arranged_data.index)"
   ]
  },
  {
   "cell_type": "markdown",
   "metadata": {},
   "source": [
    "Dibawah ini adalah hasil bobot dan tingkat kesamaan dari film yang sudah ditonton bunga (kolom) dan film yang belum ditonton bunga (baris)"
   ]
  },
  {
   "cell_type": "code",
   "execution_count": 312,
   "metadata": {
    "scrolled": true
   },
   "outputs": [
    {
     "data": {
      "text/html": [
       "<div>\n",
       "<style scoped>\n",
       "    .dataframe tbody tr th:only-of-type {\n",
       "        vertical-align: middle;\n",
       "    }\n",
       "\n",
       "    .dataframe tbody tr th {\n",
       "        vertical-align: top;\n",
       "    }\n",
       "\n",
       "    .dataframe thead th {\n",
       "        text-align: right;\n",
       "    }\n",
       "</style>\n",
       "<table border=\"1\" class=\"dataframe\">\n",
       "  <thead>\n",
       "    <tr style=\"text-align: right;\">\n",
       "      <th>Movie</th>\n",
       "      <th>Gundala</th>\n",
       "      <th>Dilan 1991</th>\n",
       "      <th>Avengers: End Game</th>\n",
       "      <th>The Lion King</th>\n",
       "      <th>Aladdin</th>\n",
       "      <th>Spiderman: Far From Home</th>\n",
       "      <th>Captain Marvel</th>\n",
       "    </tr>\n",
       "    <tr>\n",
       "      <th>Movie</th>\n",
       "      <th></th>\n",
       "      <th></th>\n",
       "      <th></th>\n",
       "      <th></th>\n",
       "      <th></th>\n",
       "      <th></th>\n",
       "      <th></th>\n",
       "    </tr>\n",
       "  </thead>\n",
       "  <tbody>\n",
       "    <tr>\n",
       "      <td>Ada Apa dengan Cinta 2</td>\n",
       "      <td>0.100849</td>\n",
       "      <td>0.100849</td>\n",
       "      <td>0.0</td>\n",
       "      <td>0.109281</td>\n",
       "      <td>0.0</td>\n",
       "      <td>0.23184</td>\n",
       "      <td>0.0</td>\n",
       "    </tr>\n",
       "    <tr>\n",
       "      <td>Bumi Manusia</td>\n",
       "      <td>0.100849</td>\n",
       "      <td>0.100849</td>\n",
       "      <td>0.0</td>\n",
       "      <td>0.109281</td>\n",
       "      <td>0.0</td>\n",
       "      <td>0.23184</td>\n",
       "      <td>0.0</td>\n",
       "    </tr>\n",
       "    <tr>\n",
       "      <td>Dua Garis Biru</td>\n",
       "      <td>0.100849</td>\n",
       "      <td>0.100849</td>\n",
       "      <td>0.0</td>\n",
       "      <td>0.109281</td>\n",
       "      <td>0.0</td>\n",
       "      <td>0.23184</td>\n",
       "      <td>0.0</td>\n",
       "    </tr>\n",
       "  </tbody>\n",
       "</table>\n",
       "</div>"
      ],
      "text/plain": [
       "Movie                    Gundala  Dilan 1991  Avengers: End Game  \\\n",
       "Movie                                                              \n",
       "Ada Apa dengan Cinta 2  0.100849    0.100849                 0.0   \n",
       "Bumi Manusia            0.100849    0.100849                 0.0   \n",
       "Dua Garis Biru          0.100849    0.100849                 0.0   \n",
       "\n",
       "Movie                   The Lion King  Aladdin  Spiderman: Far From Home  \\\n",
       "Movie                                                                      \n",
       "Ada Apa dengan Cinta 2       0.109281      0.0                   0.23184   \n",
       "Bumi Manusia                 0.109281      0.0                   0.23184   \n",
       "Dua Garis Biru               0.109281      0.0                   0.23184   \n",
       "\n",
       "Movie                   Captain Marvel  \n",
       "Movie                                   \n",
       "Ada Apa dengan Cinta 2             0.0  \n",
       "Bumi Manusia                       0.0  \n",
       "Dua Garis Biru                     0.0  "
      ]
     },
     "execution_count": 312,
     "metadata": {},
     "output_type": "execute_result"
    }
   ],
   "source": [
    "result[watched].loc[unwatched]"
   ]
  },
  {
   "cell_type": "markdown",
   "metadata": {},
   "source": [
    "Code dibawah ini digunakan untuk melihat rekomendasi film untuk bunga, apabila bunga menyukai film aladdin, maka akan direkomendasikan film yang belum bunga tonton yang memiliki kesamaan dengan aladdin"
   ]
  },
  {
   "cell_type": "code",
   "execution_count": 313,
   "metadata": {
    "scrolled": true
   },
   "outputs": [
    {
     "data": {
      "text/plain": [
       "['Bumi Manusia ', 'Ada Apa dengan Cinta 2', 'Dua Garis Biru']"
      ]
     },
     "execution_count": 313,
     "metadata": {},
     "output_type": "execute_result"
    }
   ],
   "source": [
    "content_based=pd.DataFrame(new.loc[watched][unwatched]).loc[['Aladdin']]\n",
    "recommend=list(content_based.transpose().sort_values('Aladdin',ascending=False)[0:3].index)\n",
    "recommend"
   ]
  },
  {
   "cell_type": "markdown",
   "metadata": {},
   "source": [
    "Mengubah data set menjadi *dictionary* untuk dilakukan collaborative filtering"
   ]
  },
  {
   "cell_type": "code",
   "execution_count": 314,
   "metadata": {},
   "outputs": [],
   "source": [
    "dataset = datasett.to_dict(orient='index')"
   ]
  },
  {
   "cell_type": "code",
   "execution_count": 315,
   "metadata": {
    "scrolled": true
   },
   "outputs": [
    {
     "data": {
      "text/plain": [
       "{'ANI': {'Ada Apa dengan Cinta 2': 4.0,\n",
       "  'Aladdin': 4.0,\n",
       "  'Avengers: End Game': 0.0,\n",
       "  'Bumi Manusia ': 5.0,\n",
       "  'Captain Marvel': 4.0,\n",
       "  'Dilan 1991': 4.0,\n",
       "  'Dua Garis Biru': 0.0,\n",
       "  'Gundala': 0.0,\n",
       "  'Spiderman: Far From Home': 3.0,\n",
       "  'The Lion King': 0.0},\n",
       " 'AhokTemanFirli': {'Ada Apa dengan Cinta 2': 0.0,\n",
       "  'Aladdin': 0.0,\n",
       "  'Avengers: End Game': 3.0,\n",
       "  'Bumi Manusia ': 0.0,\n",
       "  'Captain Marvel': 4.0,\n",
       "  'Dilan 1991': 0.0,\n",
       "  'Dua Garis Biru': 0.0,\n",
       "  'Gundala': 0.0,\n",
       "  'Spiderman: Far From Home': 0.0,\n",
       "  'The Lion King': 0.0},\n",
       " 'Damar Teman Firli': {'Ada Apa dengan Cinta 2': 5.0,\n",
       "  'Aladdin': 0.0,\n",
       "  'Avengers: End Game': 5.0,\n",
       "  'Bumi Manusia ': 0.0,\n",
       "  'Captain Marvel': 0.0,\n",
       "  'Dilan 1991': 0.0,\n",
       "  'Dua Garis Biru': 0.0,\n",
       "  'Gundala': 0.0,\n",
       "  'Spiderman: Far From Home': 5.0,\n",
       "  'The Lion King': 0.0},\n",
       " 'Dpv': {'Ada Apa dengan Cinta 2': 5.0,\n",
       "  'Aladdin': 0.0,\n",
       "  'Avengers: End Game': 5.0,\n",
       "  'Bumi Manusia ': 0.0,\n",
       "  'Captain Marvel': 5.0,\n",
       "  'Dilan 1991': 4.0,\n",
       "  'Dua Garis Biru': 0.0,\n",
       "  'Gundala': 4.0,\n",
       "  'Spiderman: Far From Home': 5.0,\n",
       "  'The Lion King': 0.0},\n",
       " 'Febi ganteng gak ada obat': {'Ada Apa dengan Cinta 2': 4.0,\n",
       "  'Aladdin': 5.0,\n",
       "  'Avengers: End Game': 5.0,\n",
       "  'Bumi Manusia ': 0.0,\n",
       "  'Captain Marvel': 4.0,\n",
       "  'Dilan 1991': 4.0,\n",
       "  'Dua Garis Biru': 0.0,\n",
       "  'Gundala': 3.0,\n",
       "  'Spiderman: Far From Home': 5.0,\n",
       "  'The Lion King': 0.0},\n",
       " 'Genjeh': {'Ada Apa dengan Cinta 2': 5.0,\n",
       "  'Aladdin': 5.0,\n",
       "  'Avengers: End Game': 5.0,\n",
       "  'Bumi Manusia ': 0.0,\n",
       "  'Captain Marvel': 4.0,\n",
       "  'Dilan 1991': 3.0,\n",
       "  'Dua Garis Biru': 0.0,\n",
       "  'Gundala': 4.0,\n",
       "  'Spiderman: Far From Home': 4.0,\n",
       "  'The Lion King': 0.0},\n",
       " 'Hania': {'Ada Apa dengan Cinta 2': 3.0,\n",
       "  'Aladdin': 0.0,\n",
       "  'Avengers: End Game': 0.0,\n",
       "  'Bumi Manusia ': 4.0,\n",
       "  'Captain Marvel': 0.0,\n",
       "  'Dilan 1991': 4.0,\n",
       "  'Dua Garis Biru': 4.0,\n",
       "  'Gundala': 5.0,\n",
       "  'Spiderman: Far From Home': 0.0,\n",
       "  'The Lion King': 0.0},\n",
       " 'Indra 1991 SM': {'Ada Apa dengan Cinta 2': 0.0,\n",
       "  'Aladdin': 0.0,\n",
       "  'Avengers: End Game': 0.0,\n",
       "  'Bumi Manusia ': 0.0,\n",
       "  'Captain Marvel': 0.0,\n",
       "  'Dilan 1991': 0.0,\n",
       "  'Dua Garis Biru': 0.0,\n",
       "  'Gundala': 5.0,\n",
       "  'Spiderman: Far From Home': 0.0,\n",
       "  'The Lion King': 0.0},\n",
       " 'Indra Junior': {'Ada Apa dengan Cinta 2': 4.0,\n",
       "  'Aladdin': 5.0,\n",
       "  'Avengers: End Game': 5.0,\n",
       "  'Bumi Manusia ': 0.0,\n",
       "  'Captain Marvel': 5.0,\n",
       "  'Dilan 1991': 0.0,\n",
       "  'Dua Garis Biru': 4.0,\n",
       "  'Gundala': 0.0,\n",
       "  'Spiderman: Far From Home': 5.0,\n",
       "  'The Lion King': 5.0},\n",
       " 'Jawaharal': {'Ada Apa dengan Cinta 2': 2.0,\n",
       "  'Aladdin': 5.0,\n",
       "  'Avengers: End Game': 5.0,\n",
       "  'Bumi Manusia ': 0.0,\n",
       "  'Captain Marvel': 4.0,\n",
       "  'Dilan 1991': 3.0,\n",
       "  'Dua Garis Biru': 5.0,\n",
       "  'Gundala': 4.0,\n",
       "  'Spiderman: Far From Home': 5.0,\n",
       "  'The Lion King': 4.0},\n",
       " 'Maria O.': {'Ada Apa dengan Cinta 2': 0.0,\n",
       "  'Aladdin': 4.0,\n",
       "  'Avengers: End Game': 0.0,\n",
       "  'Bumi Manusia ': 0.0,\n",
       "  'Captain Marvel': 0.0,\n",
       "  'Dilan 1991': 0.0,\n",
       "  'Dua Garis Biru': 0.0,\n",
       "  'Gundala': 0.0,\n",
       "  'Spiderman: Far From Home': 0.0,\n",
       "  'The Lion King': 5.0},\n",
       " 'Mulya': {'Ada Apa dengan Cinta 2': 0.0,\n",
       "  'Aladdin': 5.0,\n",
       "  'Avengers: End Game': 4.0,\n",
       "  'Bumi Manusia ': 0.0,\n",
       "  'Captain Marvel': 3.0,\n",
       "  'Dilan 1991': 0.0,\n",
       "  'Dua Garis Biru': 0.0,\n",
       "  'Gundala': 0.0,\n",
       "  'Spiderman: Far From Home': 4.0,\n",
       "  'The Lion King': 2.0},\n",
       " 'Nonton_Saat_Diskon': {'Ada Apa dengan Cinta 2': 4.0,\n",
       "  'Aladdin': 5.0,\n",
       "  'Avengers: End Game': 5.0,\n",
       "  'Bumi Manusia ': 0.0,\n",
       "  'Captain Marvel': 5.0,\n",
       "  'Dilan 1991': 3.0,\n",
       "  'Dua Garis Biru': 0.0,\n",
       "  'Gundala': 3.0,\n",
       "  'Spiderman: Far From Home': 4.0,\n",
       "  'The Lion King': 5.0},\n",
       " 'OM INDRA': {'Ada Apa dengan Cinta 2': 3.0,\n",
       "  'Aladdin': 1.0,\n",
       "  'Avengers: End Game': 5.0,\n",
       "  'Bumi Manusia ': 0.0,\n",
       "  'Captain Marvel': 5.0,\n",
       "  'Dilan 1991': 2.0,\n",
       "  'Dua Garis Biru': 5.0,\n",
       "  'Gundala': 0.0,\n",
       "  'Spiderman: Far From Home': 5.0,\n",
       "  'The Lion King': 0.0},\n",
       " 'Putrisqiana': {'Ada Apa dengan Cinta 2': 4.0,\n",
       "  'Aladdin': 0.0,\n",
       "  'Avengers: End Game': 5.0,\n",
       "  'Bumi Manusia ': 4.0,\n",
       "  'Captain Marvel': 3.0,\n",
       "  'Dilan 1991': 2.0,\n",
       "  'Dua Garis Biru': 3.0,\n",
       "  'Gundala': 3.0,\n",
       "  'Spiderman: Far From Home': 4.0,\n",
       "  'The Lion King': 0.0},\n",
       " 'Rima': {'Ada Apa dengan Cinta 2': 5.0,\n",
       "  'Aladdin': 5.0,\n",
       "  'Avengers: End Game': 5.0,\n",
       "  'Bumi Manusia ': 4.0,\n",
       "  'Captain Marvel': 5.0,\n",
       "  'Dilan 1991': 5.0,\n",
       "  'Dua Garis Biru': 3.0,\n",
       "  'Gundala': 5.0,\n",
       "  'Spiderman: Far From Home': 5.0,\n",
       "  'The Lion King': 4.0},\n",
       " 'Romantika': {'Ada Apa dengan Cinta 2': 5.0,\n",
       "  'Aladdin': 0.0,\n",
       "  'Avengers: End Game': 0.0,\n",
       "  'Bumi Manusia ': 0.0,\n",
       "  'Captain Marvel': 0.0,\n",
       "  'Dilan 1991': 5.0,\n",
       "  'Dua Garis Biru': 0.0,\n",
       "  'Gundala': 0.0,\n",
       "  'Spiderman: Far From Home': 0.0,\n",
       "  'The Lion King': 0.0},\n",
       " 'Star': {'Ada Apa dengan Cinta 2': 4.0,\n",
       "  'Aladdin': 5.0,\n",
       "  'Avengers: End Game': 5.0,\n",
       "  'Bumi Manusia ': 0.0,\n",
       "  'Captain Marvel': 5.0,\n",
       "  'Dilan 1991': 0.0,\n",
       "  'Dua Garis Biru': 0.0,\n",
       "  'Gundala': 4.0,\n",
       "  'Spiderman: Far From Home': 0.0,\n",
       "  'The Lion King': 5.0},\n",
       " 'Topik Zulkarnain': {'Ada Apa dengan Cinta 2': 0.0,\n",
       "  'Aladdin': 0.0,\n",
       "  'Avengers: End Game': 5.0,\n",
       "  'Bumi Manusia ': 0.0,\n",
       "  'Captain Marvel': 2.0,\n",
       "  'Dilan 1991': 0.0,\n",
       "  'Dua Garis Biru': 0.0,\n",
       "  'Gundala': 0.0,\n",
       "  'Spiderman: Far From Home': 4.0,\n",
       "  'The Lion King': 5.0},\n",
       " 'bunga': {'Ada Apa dengan Cinta 2': 0.0,\n",
       "  'Aladdin': 5.0,\n",
       "  'Avengers: End Game': 5.0,\n",
       "  'Bumi Manusia ': 0.0,\n",
       "  'Captain Marvel': 5.0,\n",
       "  'Dilan 1991': 4.0,\n",
       "  'Dua Garis Biru': 0.0,\n",
       "  'Gundala': 4.0,\n",
       "  'Spiderman: Far From Home': 5.0,\n",
       "  'The Lion King': 5.0},\n",
       " 'faizah': {'Ada Apa dengan Cinta 2': 3.0,\n",
       "  'Aladdin': 0.0,\n",
       "  'Avengers: End Game': 5.0,\n",
       "  'Bumi Manusia ': 5.0,\n",
       "  'Captain Marvel': 0.0,\n",
       "  'Dilan 1991': 5.0,\n",
       "  'Dua Garis Biru': 4.0,\n",
       "  'Gundala': 0.0,\n",
       "  'Spiderman: Far From Home': 0.0,\n",
       "  'The Lion King': 0.0},\n",
       " 'franadek': {'Ada Apa dengan Cinta 2': 4.0,\n",
       "  'Aladdin': 5.0,\n",
       "  'Avengers: End Game': 5.0,\n",
       "  'Bumi Manusia ': 5.0,\n",
       "  'Captain Marvel': 4.0,\n",
       "  'Dilan 1991': 4.0,\n",
       "  'Dua Garis Biru': 3.0,\n",
       "  'Gundala': 4.0,\n",
       "  'Spiderman: Far From Home': 4.0,\n",
       "  'The Lion King': 4.0},\n",
       " 'jul': {'Ada Apa dengan Cinta 2': 0.0,\n",
       "  'Aladdin': 3.0,\n",
       "  'Avengers: End Game': 3.0,\n",
       "  'Bumi Manusia ': 0.0,\n",
       "  'Captain Marvel': 3.0,\n",
       "  'Dilan 1991': 0.0,\n",
       "  'Dua Garis Biru': 3.0,\n",
       "  'Gundala': 3.0,\n",
       "  'Spiderman: Far From Home': 3.0,\n",
       "  'The Lion King': 3.0},\n",
       " 'luck': {'Ada Apa dengan Cinta 2': 3.0,\n",
       "  'Aladdin': 0.0,\n",
       "  'Avengers: End Game': 4.0,\n",
       "  'Bumi Manusia ': 0.0,\n",
       "  'Captain Marvel': 2.0,\n",
       "  'Dilan 1991': 0.0,\n",
       "  'Dua Garis Biru': 0.0,\n",
       "  'Gundala': 0.0,\n",
       "  'Spiderman: Far From Home': 0.0,\n",
       "  'The Lion King': 0.0}}"
      ]
     },
     "execution_count": 315,
     "metadata": {},
     "output_type": "execute_result"
    }
   ],
   "source": [
    "dataset"
   ]
  },
  {
   "cell_type": "code",
   "execution_count": null,
   "metadata": {},
   "outputs": [],
   "source": []
  },
  {
   "cell_type": "markdown",
   "metadata": {},
   "source": [
    "## Collaborative Filtering"
   ]
  },
  {
   "cell_type": "code",
   "execution_count": 316,
   "metadata": {},
   "outputs": [],
   "source": [
    "def person_correlation(person1, person2):\n",
    "\n",
    "   # To get both rated items\n",
    "    both_rated = {}\n",
    "    for item in dataset[person1]:\n",
    "        if item in dataset[person2]:\n",
    "            both_rated[item] = 1\n",
    "\n",
    "    number_of_ratings = len(both_rated)\n",
    "\n",
    "    # Checking for ratings in common\n",
    "    if number_of_ratings == 0:\n",
    "        return 0\n",
    "\n",
    "    # Add up all the preferences of each user\n",
    "    person1_preferences_sum = sum([dataset[person1][item] for item in both_rated])\n",
    "    person2_preferences_sum = sum([dataset[person2][item] for item in both_rated])\n",
    "\n",
    "    # Sum up the squares of preferences of each user\n",
    "    person1_square_preferences_sum = sum([pow(dataset[person1][item],2) for item in both_rated])\n",
    "    person2_square_preferences_sum = sum([pow(dataset[person2][item],2) for item in both_rated])\n",
    "\n",
    "    # Sum up the product value of both preferences for each item\n",
    "    product_sum_of_both_users = sum([dataset[person1][item] * dataset[person2][item] for item in both_rated])\n",
    "\n",
    "    # Calculate the pearson score\n",
    "    numerator_value = product_sum_of_both_users - (person1_preferences_sum*person2_preferences_sum/number_of_ratings)\n",
    "    denominator_value = sqrt((person1_square_preferences_sum - pow(person1_preferences_sum,2)/number_of_ratings) * (person2_square_preferences_sum -pow(person2_preferences_sum,2)/number_of_ratings))\n",
    "\n",
    "    if denominator_value == 0:\n",
    "        return 0\n",
    "    else:\n",
    "        r = numerator_value / denominator_value\n",
    "        return r\n",
    "\n",
    "def user_recommendations(person):\n",
    "\n",
    "    # Gets recommendations for a person by using a weighted average of every other user's rankings\n",
    "    totals = {}\n",
    "    simSums = {}\n",
    "    rankings_list =[]\n",
    "    for other in dataset:\n",
    "        # don't compare me to myself\n",
    "        if other == person:\n",
    "            continue\n",
    "        sim = person_correlation(person,other)\n",
    "        #print \">>>>>>>\",sim\n",
    "\n",
    "        # ignore scores of zero or lower\n",
    "        if sim <=0: \n",
    "            continue\n",
    "        for item in dataset[other]:\n",
    "\n",
    "            # only score movies i haven't seen yet\n",
    "            if item not in dataset[person] or dataset[person][item] == 0:\n",
    "\n",
    "            # Similrity * score\n",
    "                totals.setdefault(item,0)\n",
    "                totals[item] += dataset[other][item]* sim\n",
    "                # sum of similarities\n",
    "                simSums.setdefault(item,0)\n",
    "                simSums[item]+= sim\n",
    "\n",
    "        # Create the normalized list\n",
    "\n",
    "    rankings = [(total/simSums[item],item) for item,total in totals.items()]\n",
    "    rankings.sort()\n",
    "    rankings.reverse()\n",
    "    # returns the recommended items\n",
    "    recommendataions_list = [recommend_item for score,recommend_item in rankings]\n",
    "    return recommendataions_list, rankings"
   ]
  },
  {
   "cell_type": "markdown",
   "metadata": {},
   "source": [
    "Code dibawah ini digunakan untuk memberikan rekomendasi film untuk bunga dengan melihat bobot fitur dari kesamaan film dan diurutkan berdasarkan film yang diberikan rating tertinggi oleh pengguna lain. Dengan rekomendasi ini, bunga memiliki peluang untuk menonton film yang bagus dan cocok dengan dirinya."
   ]
  },
  {
   "cell_type": "code",
   "execution_count": 317,
   "metadata": {},
   "outputs": [
    {
     "data": {
      "text/html": [
       "<div>\n",
       "<style scoped>\n",
       "    .dataframe tbody tr th:only-of-type {\n",
       "        vertical-align: middle;\n",
       "    }\n",
       "\n",
       "    .dataframe tbody tr th {\n",
       "        vertical-align: top;\n",
       "    }\n",
       "\n",
       "    .dataframe thead th {\n",
       "        text-align: right;\n",
       "    }\n",
       "</style>\n",
       "<table border=\"1\" class=\"dataframe\">\n",
       "  <thead>\n",
       "    <tr style=\"text-align: right;\">\n",
       "      <th></th>\n",
       "      <th>Bobot</th>\n",
       "    </tr>\n",
       "    <tr>\n",
       "      <th>Movie</th>\n",
       "      <th></th>\n",
       "    </tr>\n",
       "  </thead>\n",
       "  <tbody>\n",
       "    <tr>\n",
       "      <td>Ada Apa dengan Cinta 2</td>\n",
       "      <td>2.439263</td>\n",
       "    </tr>\n",
       "    <tr>\n",
       "      <td>Dua Garis Biru</td>\n",
       "      <td>1.249705</td>\n",
       "    </tr>\n",
       "    <tr>\n",
       "      <td>Bumi Manusia</td>\n",
       "      <td>0.499773</td>\n",
       "    </tr>\n",
       "  </tbody>\n",
       "</table>\n",
       "</div>"
      ],
      "text/plain": [
       "                           Bobot\n",
       "Movie                           \n",
       "Ada Apa dengan Cinta 2  2.439263\n",
       "Dua Garis Biru          1.249705\n",
       "Bumi Manusia            0.499773"
      ]
     },
     "execution_count": 317,
     "metadata": {},
     "output_type": "execute_result"
    }
   ],
   "source": [
    "Hybrid_recommendation=pd.DataFrame(user_recommendations('bunga')[1],columns=['Bobot','Movie'])\n",
    "Hybrid_recommendation=Hybrid_recommendation.set_index('Movie').loc[recommend]\n",
    "Hybrid_recommendation=Hybrid_recommendation.sort_values('Bobot',ascending=False)\n",
    "Hybrid_recommendation"
   ]
  },
  {
   "cell_type": "markdown",
   "metadata": {},
   "source": [
    "# Conclusion\n",
    "\n",
    "Dengan hybrid filtering maka peringkat setiap item yang direkomendasikan bisa menjadi ukuran untuk bobot. Dengan cara ini, rekomendasi tertinggi menerima bobot tertinggi. Pada kasus ini Bunga mendapatkan rekomendasi film yang belum ditonton berdasarkan kesamaan dari film yang sudah ditonton dengan film yang belum ditonton. Setelah itu, diurutkan berdasarkan rating film dari pengguna lain untuk disarankan. Pada kasus ini *recommendation system* bekerja dengan baik untuk memberikan rekomendasi kepada pengguna, apabila *recommendation system* diterapkan pada aplikasi untuk menonton film maka pengguna akan mengurangi kebingungan pengguna mengenai film mana yang bagus dan sesuai dengan dirinya.\n",
    "<br><br>\n",
    "Selain itu *recommendation system* juga dapat digunakan pada aplikasi lain contohnya seperti aplikasi pemesan makanan. Jika diterapkan pada aplikasi tersebut maka jika pengguna ingin memesan makanan ia tidak akan bingung atau kesulitan menentukan pilihannya. Dengan adanya *recommendation system* dapat membuat aplikasi lebi proaktif kepada penggunaa."
   ]
  }
 ],
 "metadata": {
  "kernelspec": {
   "display_name": "Python 3",
   "language": "python",
   "name": "python3"
  },
  "language_info": {
   "codemirror_mode": {
    "name": "ipython",
    "version": 3
   },
   "file_extension": ".py",
   "mimetype": "text/x-python",
   "name": "python",
   "nbconvert_exporter": "python",
   "pygments_lexer": "ipython3",
   "version": "3.6.4"
  }
 },
 "nbformat": 4,
 "nbformat_minor": 2
}
