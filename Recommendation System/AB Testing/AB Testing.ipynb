{
 "cells": [
  {
   "cell_type": "markdown",
   "metadata": {},
   "source": [
    "# AB TESTING\n",
    "\n",
    "AB Testing adalah metode membandingkan dua versi satu sama lain untuk menentukan mana yang berkinerja lebih baik. Pada AB Testing, analisis statistik digunakan untuk menentukan variasi mana yang berkinerja lebih baik untuk sasaran konversi yang diberikan.<br><br>\n",
    "\n",
    "Kasus : <br>\n",
    "Satrio adalah seorang data scientist pada sebuah perusahaan retail indoastra. Satrio memiliki terobosan baru yaitu menggunakan e-payment pada sistem pembayaran di kasir. Akan tetapi karyawan lain merendahkan idenya, karena menurut mereka dengan menggunakan cash saja sudah efektif. Maka dari itu Satrio ingin menguji penggunakan e-payment pada salah satu cabang indoastra dengan cara AB TESTING.<br><br>\n",
    "Satrio menguji 2 cabang, yaitu cabang A dan cabang B. Cabang A akan menggunakan cash untuk pembayarannya, sedangkan untuk Cabang B akan menggunakan e-payment. Pengujian tersebut dilakukan selama 7 hari untuk melihat hasilnya. <br>\n",
    "Pada AB TESTING parameter yang digunakan adalah :\n",
    "- Rata-rata waktu pembayaran\n",
    "- Convertion rate (proporsi dari pelanggan yang melakukan transaksi)\n",
    "<br><br>\n",
    "Data yang digunakan pada pengujian ini adalah data transaksi dari kedua cabang yang akan diuji dengan AB Testing.\n"
   ]
  },
  {
   "cell_type": "markdown",
   "metadata": {},
   "source": [
    "## Import Package"
   ]
  },
  {
   "cell_type": "code",
   "execution_count": 1,
   "metadata": {},
   "outputs": [],
   "source": [
    "import numpy as np\n",
    "import pandas as pd\n",
    "import seaborn as sns\n",
    "import matplotlib.pyplot as plt\n",
    "import matplotlib\n",
    "from scipy.stats import ttest_ind"
   ]
  },
  {
   "cell_type": "markdown",
   "metadata": {},
   "source": [
    "## Load Data"
   ]
  },
  {
   "cell_type": "code",
   "execution_count": 2,
   "metadata": {},
   "outputs": [],
   "source": [
    "data = pd.read_csv('datapembelian.csv')"
   ]
  },
  {
   "cell_type": "code",
   "execution_count": 3,
   "metadata": {},
   "outputs": [
    {
     "data": {
      "text/html": [
       "<div>\n",
       "<style scoped>\n",
       "    .dataframe tbody tr th:only-of-type {\n",
       "        vertical-align: middle;\n",
       "    }\n",
       "\n",
       "    .dataframe tbody tr th {\n",
       "        vertical-align: top;\n",
       "    }\n",
       "\n",
       "    .dataframe thead th {\n",
       "        text-align: right;\n",
       "    }\n",
       "</style>\n",
       "<table border=\"1\" class=\"dataframe\">\n",
       "  <thead>\n",
       "    <tr style=\"text-align: right;\">\n",
       "      <th></th>\n",
       "      <th>day</th>\n",
       "      <th>merchant</th>\n",
       "      <th>cust</th>\n",
       "      <th>payment</th>\n",
       "      <th>avg_paytime</th>\n",
       "      <th>conv_rate</th>\n",
       "    </tr>\n",
       "  </thead>\n",
       "  <tbody>\n",
       "    <tr>\n",
       "      <td>0</td>\n",
       "      <td>1</td>\n",
       "      <td>A</td>\n",
       "      <td>2002</td>\n",
       "      <td>cash</td>\n",
       "      <td>15</td>\n",
       "      <td>0.4</td>\n",
       "    </tr>\n",
       "    <tr>\n",
       "      <td>1</td>\n",
       "      <td>1</td>\n",
       "      <td>B</td>\n",
       "      <td>1809</td>\n",
       "      <td>epayment</td>\n",
       "      <td>7</td>\n",
       "      <td>0.3</td>\n",
       "    </tr>\n",
       "    <tr>\n",
       "      <td>2</td>\n",
       "      <td>2</td>\n",
       "      <td>A</td>\n",
       "      <td>2111</td>\n",
       "      <td>cash</td>\n",
       "      <td>12</td>\n",
       "      <td>0.3</td>\n",
       "    </tr>\n",
       "    <tr>\n",
       "      <td>3</td>\n",
       "      <td>2</td>\n",
       "      <td>B</td>\n",
       "      <td>2287</td>\n",
       "      <td>epayment</td>\n",
       "      <td>8</td>\n",
       "      <td>0.7</td>\n",
       "    </tr>\n",
       "    <tr>\n",
       "      <td>4</td>\n",
       "      <td>3</td>\n",
       "      <td>A</td>\n",
       "      <td>1923</td>\n",
       "      <td>cash</td>\n",
       "      <td>9</td>\n",
       "      <td>0.5</td>\n",
       "    </tr>\n",
       "    <tr>\n",
       "      <td>5</td>\n",
       "      <td>3</td>\n",
       "      <td>B</td>\n",
       "      <td>2321</td>\n",
       "      <td>epayment</td>\n",
       "      <td>6</td>\n",
       "      <td>0.6</td>\n",
       "    </tr>\n",
       "    <tr>\n",
       "      <td>6</td>\n",
       "      <td>4</td>\n",
       "      <td>A</td>\n",
       "      <td>1298</td>\n",
       "      <td>cash</td>\n",
       "      <td>11</td>\n",
       "      <td>0.4</td>\n",
       "    </tr>\n",
       "    <tr>\n",
       "      <td>7</td>\n",
       "      <td>4</td>\n",
       "      <td>B</td>\n",
       "      <td>901</td>\n",
       "      <td>epayment</td>\n",
       "      <td>5</td>\n",
       "      <td>0.4</td>\n",
       "    </tr>\n",
       "    <tr>\n",
       "      <td>8</td>\n",
       "      <td>5</td>\n",
       "      <td>A</td>\n",
       "      <td>650</td>\n",
       "      <td>cash</td>\n",
       "      <td>8</td>\n",
       "      <td>0.8</td>\n",
       "    </tr>\n",
       "    <tr>\n",
       "      <td>9</td>\n",
       "      <td>5</td>\n",
       "      <td>B</td>\n",
       "      <td>1902</td>\n",
       "      <td>epayment</td>\n",
       "      <td>6</td>\n",
       "      <td>0.7</td>\n",
       "    </tr>\n",
       "    <tr>\n",
       "      <td>10</td>\n",
       "      <td>6</td>\n",
       "      <td>A</td>\n",
       "      <td>1221</td>\n",
       "      <td>cash</td>\n",
       "      <td>12</td>\n",
       "      <td>0.5</td>\n",
       "    </tr>\n",
       "    <tr>\n",
       "      <td>11</td>\n",
       "      <td>6</td>\n",
       "      <td>B</td>\n",
       "      <td>2019</td>\n",
       "      <td>epayment</td>\n",
       "      <td>8</td>\n",
       "      <td>0.7</td>\n",
       "    </tr>\n",
       "    <tr>\n",
       "      <td>12</td>\n",
       "      <td>7</td>\n",
       "      <td>A</td>\n",
       "      <td>897</td>\n",
       "      <td>cash</td>\n",
       "      <td>9</td>\n",
       "      <td>0.4</td>\n",
       "    </tr>\n",
       "    <tr>\n",
       "      <td>13</td>\n",
       "      <td>7</td>\n",
       "      <td>B</td>\n",
       "      <td>912</td>\n",
       "      <td>epayment</td>\n",
       "      <td>6</td>\n",
       "      <td>0.4</td>\n",
       "    </tr>\n",
       "  </tbody>\n",
       "</table>\n",
       "</div>"
      ],
      "text/plain": [
       "    day merchant  cust   payment  avg_paytime  conv_rate\n",
       "0     1        A  2002      cash           15        0.4\n",
       "1     1        B  1809  epayment            7        0.3\n",
       "2     2        A  2111      cash           12        0.3\n",
       "3     2        B  2287  epayment            8        0.7\n",
       "4     3        A  1923      cash            9        0.5\n",
       "5     3        B  2321  epayment            6        0.6\n",
       "6     4        A  1298      cash           11        0.4\n",
       "7     4        B   901  epayment            5        0.4\n",
       "8     5        A   650      cash            8        0.8\n",
       "9     5        B  1902  epayment            6        0.7\n",
       "10    6        A  1221      cash           12        0.5\n",
       "11    6        B  2019  epayment            8        0.7\n",
       "12    7        A   897      cash            9        0.4\n",
       "13    7        B   912  epayment            6        0.4"
      ]
     },
     "execution_count": 3,
     "metadata": {},
     "output_type": "execute_result"
    }
   ],
   "source": [
    "data"
   ]
  },
  {
   "cell_type": "code",
   "execution_count": 4,
   "metadata": {
    "scrolled": true
   },
   "outputs": [
    {
     "name": "stdout",
     "output_type": "stream",
     "text": [
      "<class 'pandas.core.frame.DataFrame'>\n",
      "RangeIndex: 14 entries, 0 to 13\n",
      "Data columns (total 6 columns):\n",
      "day            14 non-null int64\n",
      "merchant       14 non-null object\n",
      "cust           14 non-null int64\n",
      "payment        14 non-null object\n",
      "avg_paytime    14 non-null int64\n",
      "conv_rate      14 non-null float64\n",
      "dtypes: float64(1), int64(3), object(2)\n",
      "memory usage: 800.0+ bytes\n"
     ]
    }
   ],
   "source": [
    "data.info()"
   ]
  },
  {
   "cell_type": "code",
   "execution_count": 5,
   "metadata": {
    "scrolled": false
   },
   "outputs": [
    {
     "data": {
      "text/plain": [
       "Index(['day', 'merchant', 'cust', 'payment', 'avg_paytime', 'conv_rate'], dtype='object')"
      ]
     },
     "execution_count": 5,
     "metadata": {},
     "output_type": "execute_result"
    }
   ],
   "source": [
    "data.columns"
   ]
  },
  {
   "cell_type": "markdown",
   "metadata": {},
   "source": [
    "### Count Missing Value"
   ]
  },
  {
   "cell_type": "code",
   "execution_count": 6,
   "metadata": {},
   "outputs": [
    {
     "name": "stdout",
     "output_type": "stream",
     "text": [
      "conv_rate      0\n",
      "avg_paytime    0\n",
      "payment        0\n",
      "cust           0\n",
      "merchant       0\n",
      "day            0\n",
      "dtype: int64\n"
     ]
    }
   ],
   "source": [
    "count_missing = data.isnull().sum().sort_values(ascending = False)\n",
    "print(count_missing)"
   ]
  },
  {
   "cell_type": "markdown",
   "metadata": {},
   "source": [
    "## Data Visualization"
   ]
  },
  {
   "cell_type": "markdown",
   "metadata": {},
   "source": [
    "### Bar Plot\n",
    "Untuk mengetahui lamanya rata-rata pembayaran dengan menggunakan cash dan e-payment<br>\n",
    "Dari bar plot dibawah ini dapat diketahui bahwa pembayaran dengan metode e-payment memakan waktu lebih sedikit dibandingkan cash"
   ]
  },
  {
   "cell_type": "code",
   "execution_count": 7,
   "metadata": {
    "scrolled": false
   },
   "outputs": [
    {
     "data": {
      "image/png": "[encoded data removed]",
      "text/plain": [
       "<Figure size 720x288 with 1 Axes>"
      ]
     },
     "metadata": {},
     "output_type": "display_data"
    }
   ],
   "source": [
    "fig, ax = plt.subplots(figsize=(10, 4))\n",
    "sns.barplot(x='payment', y='avg_paytime', data=data, ax=ax)\n",
    "plt.xlabel('Cara Pembayaran')\n",
    "plt.ylabel('Rata-rata waktu pembayaran')\n",
    "plt.show()"
   ]
  },
  {
   "cell_type": "markdown",
   "metadata": {},
   "source": [
    "Untuk mengetahui jumlah pelanggan pada Cabang A dan Cabang B <br>\n",
    "Pada Bar Plot dibawah dapat diketahui bahwa jumlah pelanggan Cabang B lebih banyak dibandingkan dengan Cabang A"
   ]
  },
  {
   "cell_type": "code",
   "execution_count": 11,
   "metadata": {
    "scrolled": true
   },
   "outputs": [
    {
     "data": {
      "image/png": "[encoded data removed]",
      "text/plain": [
       "<Figure size 720x288 with 1 Axes>"
      ]
     },
     "metadata": {},
     "output_type": "display_data"
    }
   ],
   "source": [
    "fig, ax = plt.subplots(figsize=(10, 4))\n",
    "sns.barplot(x='merchant', y='cust', data=data, ax=ax)\n",
    "plt.xlabel('Cabang indoastra')\n",
    "plt.ylabel('Jumlah Pelanggan')\n",
    "plt.show()"
   ]
  },
  {
   "cell_type": "markdown",
   "metadata": {},
   "source": [
    "Untuk mengetahui rata-rata convertion rate per hari"
   ]
  },
  {
   "cell_type": "code",
   "execution_count": 17,
   "metadata": {},
   "outputs": [
    {
     "data": {
      "image/png": "[encoded data removed]",
      "text/plain": [
       "<Figure size 720x288 with 1 Axes>"
      ]
     },
     "metadata": {},
     "output_type": "display_data"
    }
   ],
   "source": [
    "fig, ax = plt.subplots(figsize=(10, 4))\n",
    "sns.barplot(x='day', y='avg_paytime', hue='payment', data=data, ax=ax)\n",
    "ax.set_title('Mean Conversion Rate per Day', fontsize=16)\n",
    "plt.xlabel('Hari Ke-')\n",
    "plt.ylabel('Rata-rata waktu pembayaran')\n",
    "plt.tight_layout()\n",
    "plt.show()"
   ]
  },
  {
   "cell_type": "markdown",
   "metadata": {},
   "source": [
    "### Box Plot\n",
    "Untuk mengetahui outlier dari masing-masing fitur"
   ]
  },
  {
   "cell_type": "code",
   "execution_count": 9,
   "metadata": {
    "scrolled": true
   },
   "outputs": [
    {
     "data": {
      "text/plain": [
       "<matplotlib.axes._subplots.AxesSubplot at 0x22168f90710>"
      ]
     },
     "execution_count": 9,
     "metadata": {},
     "output_type": "execute_result"
    },
    {
     "data": {
      "image/png": "[encoded data removed]",
      "text/plain": [
       "<Figure size 720x720 with 2 Axes>"
      ]
     },
     "metadata": {},
     "output_type": "display_data"
    }
   ],
   "source": [
    "f=plt.figure(figsize=(10,10))\n",
    "f.add_subplot(2,2,1)\n",
    "sns.boxplot(data['avg_paytime'], color = 'blue',orient = \"h\")\n",
    "f.add_subplot(2,2,2)\n",
    "sns.boxplot(data['conv_rate'], color = 'blue',orient = \"h\")"
   ]
  },
  {
   "cell_type": "markdown",
   "metadata": {},
   "source": [
    "## Change the categorical feature into numeric"
   ]
  },
  {
   "cell_type": "code",
   "execution_count": 79,
   "metadata": {},
   "outputs": [],
   "source": [
    "from sklearn.preprocessing import LabelEncoder\n",
    "data['payment'] = LabelEncoder().fit_transform(data['payment'])"
   ]
  },
  {
   "cell_type": "code",
   "execution_count": 80,
   "metadata": {},
   "outputs": [
    {
     "data": {
      "text/html": [
       "<div>\n",
       "<style scoped>\n",
       "    .dataframe tbody tr th:only-of-type {\n",
       "        vertical-align: middle;\n",
       "    }\n",
       "\n",
       "    .dataframe tbody tr th {\n",
       "        vertical-align: top;\n",
       "    }\n",
       "\n",
       "    .dataframe thead th {\n",
       "        text-align: right;\n",
       "    }\n",
       "</style>\n",
       "<table border=\"1\" class=\"dataframe\">\n",
       "  <thead>\n",
       "    <tr style=\"text-align: right;\">\n",
       "      <th></th>\n",
       "      <th>day</th>\n",
       "      <th>merchant</th>\n",
       "      <th>cust</th>\n",
       "      <th>payment</th>\n",
       "      <th>avg_paytime</th>\n",
       "      <th>conv_rate</th>\n",
       "    </tr>\n",
       "  </thead>\n",
       "  <tbody>\n",
       "    <tr>\n",
       "      <td>0</td>\n",
       "      <td>1</td>\n",
       "      <td>A</td>\n",
       "      <td>2002</td>\n",
       "      <td>0</td>\n",
       "      <td>15</td>\n",
       "      <td>0.4</td>\n",
       "    </tr>\n",
       "    <tr>\n",
       "      <td>1</td>\n",
       "      <td>1</td>\n",
       "      <td>B</td>\n",
       "      <td>1809</td>\n",
       "      <td>1</td>\n",
       "      <td>7</td>\n",
       "      <td>0.3</td>\n",
       "    </tr>\n",
       "    <tr>\n",
       "      <td>2</td>\n",
       "      <td>2</td>\n",
       "      <td>A</td>\n",
       "      <td>2111</td>\n",
       "      <td>0</td>\n",
       "      <td>12</td>\n",
       "      <td>0.3</td>\n",
       "    </tr>\n",
       "    <tr>\n",
       "      <td>3</td>\n",
       "      <td>2</td>\n",
       "      <td>B</td>\n",
       "      <td>2287</td>\n",
       "      <td>1</td>\n",
       "      <td>8</td>\n",
       "      <td>0.7</td>\n",
       "    </tr>\n",
       "    <tr>\n",
       "      <td>4</td>\n",
       "      <td>3</td>\n",
       "      <td>A</td>\n",
       "      <td>1923</td>\n",
       "      <td>0</td>\n",
       "      <td>9</td>\n",
       "      <td>0.5</td>\n",
       "    </tr>\n",
       "    <tr>\n",
       "      <td>5</td>\n",
       "      <td>3</td>\n",
       "      <td>B</td>\n",
       "      <td>2321</td>\n",
       "      <td>1</td>\n",
       "      <td>6</td>\n",
       "      <td>0.6</td>\n",
       "    </tr>\n",
       "    <tr>\n",
       "      <td>6</td>\n",
       "      <td>4</td>\n",
       "      <td>A</td>\n",
       "      <td>1298</td>\n",
       "      <td>0</td>\n",
       "      <td>11</td>\n",
       "      <td>0.4</td>\n",
       "    </tr>\n",
       "    <tr>\n",
       "      <td>7</td>\n",
       "      <td>4</td>\n",
       "      <td>B</td>\n",
       "      <td>901</td>\n",
       "      <td>1</td>\n",
       "      <td>5</td>\n",
       "      <td>0.4</td>\n",
       "    </tr>\n",
       "    <tr>\n",
       "      <td>8</td>\n",
       "      <td>5</td>\n",
       "      <td>A</td>\n",
       "      <td>650</td>\n",
       "      <td>0</td>\n",
       "      <td>8</td>\n",
       "      <td>0.8</td>\n",
       "    </tr>\n",
       "    <tr>\n",
       "      <td>9</td>\n",
       "      <td>5</td>\n",
       "      <td>B</td>\n",
       "      <td>1902</td>\n",
       "      <td>1</td>\n",
       "      <td>6</td>\n",
       "      <td>0.7</td>\n",
       "    </tr>\n",
       "    <tr>\n",
       "      <td>10</td>\n",
       "      <td>6</td>\n",
       "      <td>A</td>\n",
       "      <td>1221</td>\n",
       "      <td>0</td>\n",
       "      <td>12</td>\n",
       "      <td>0.5</td>\n",
       "    </tr>\n",
       "    <tr>\n",
       "      <td>11</td>\n",
       "      <td>6</td>\n",
       "      <td>B</td>\n",
       "      <td>2019</td>\n",
       "      <td>1</td>\n",
       "      <td>8</td>\n",
       "      <td>0.7</td>\n",
       "    </tr>\n",
       "    <tr>\n",
       "      <td>12</td>\n",
       "      <td>7</td>\n",
       "      <td>A</td>\n",
       "      <td>897</td>\n",
       "      <td>0</td>\n",
       "      <td>9</td>\n",
       "      <td>0.4</td>\n",
       "    </tr>\n",
       "    <tr>\n",
       "      <td>13</td>\n",
       "      <td>7</td>\n",
       "      <td>B</td>\n",
       "      <td>912</td>\n",
       "      <td>1</td>\n",
       "      <td>6</td>\n",
       "      <td>0.4</td>\n",
       "    </tr>\n",
       "  </tbody>\n",
       "</table>\n",
       "</div>"
      ],
      "text/plain": [
       "    day merchant  cust  payment  avg_paytime  conv_rate\n",
       "0     1        A  2002        0           15        0.4\n",
       "1     1        B  1809        1            7        0.3\n",
       "2     2        A  2111        0           12        0.3\n",
       "3     2        B  2287        1            8        0.7\n",
       "4     3        A  1923        0            9        0.5\n",
       "5     3        B  2321        1            6        0.6\n",
       "6     4        A  1298        0           11        0.4\n",
       "7     4        B   901        1            5        0.4\n",
       "8     5        A   650        0            8        0.8\n",
       "9     5        B  1902        1            6        0.7\n",
       "10    6        A  1221        0           12        0.5\n",
       "11    6        B  2019        1            8        0.7\n",
       "12    7        A   897        0            9        0.4\n",
       "13    7        B   912        1            6        0.4"
      ]
     },
     "execution_count": 80,
     "metadata": {},
     "output_type": "execute_result"
    }
   ],
   "source": [
    "data"
   ]
  },
  {
   "cell_type": "markdown",
   "metadata": {},
   "source": [
    "### Hypotessis\n",
    "H0 : rata-rata waktu pembayaran dengan menggunakan cash dan epayment sama<br>\n",
    "H1 : rata-rata waktu pembayaran dengan menggunakan epayment lebih cepat daripada cash"
   ]
  },
  {
   "cell_type": "markdown",
   "metadata": {},
   "source": [
    "## T-test for Average Payment Time\n",
    "- alpha / confidence level = 0.05"
   ]
  },
  {
   "cell_type": "code",
   "execution_count": 81,
   "metadata": {},
   "outputs": [],
   "source": [
    "test_val = data[data['payment'] == 1]['avg_paytime'].values\n",
    "cont_val = data[data['payment'] == 0]['avg_paytime'].values"
   ]
  },
  {
   "cell_type": "code",
   "execution_count": 82,
   "metadata": {},
   "outputs": [
    {
     "name": "stdout",
     "output_type": "stream",
     "text": [
      "6.571428571428571 \t 10.857142857142858\n"
     ]
    }
   ],
   "source": [
    "print(test_val.mean(), '\\t', cont_val.mean())"
   ]
  },
  {
   "cell_type": "code",
   "execution_count": 83,
   "metadata": {
    "scrolled": false
   },
   "outputs": [
    {
     "name": "stdout",
     "output_type": "stream",
     "text": [
      "Ttest_indResult(statistic=-4.256853928563619, pvalue=0.002394900697258744)\n"
     ]
    }
   ],
   "source": [
    "print(ttest_ind(test_val, cont_val, equal_var=False))"
   ]
  },
  {
   "cell_type": "markdown",
   "metadata": {},
   "source": [
    "### Result : \n",
    "Karena nilai pvalue kurang dari 0.05 (alpha/confidence level) maka *reject* H0 dan dapat diambil kesimpulan bahwa rata-rata pembayaran menggunakan epayment lebih cepat daripada cash"
   ]
  },
  {
   "cell_type": "markdown",
   "metadata": {},
   "source": [
    "##  T-Test for Convertion Rate\n",
    "- alpha / confidence level = 0.05"
   ]
  },
  {
   "cell_type": "markdown",
   "metadata": {},
   "source": [
    "### Hypotessis\n",
    "H0 : kedua metode pembayaran tersebut memiliki rata-rata convertion rate yang sama<br>\n",
    "H1 : metode pembayaran epayment memiliki rata-rata convertion rate yang lebih besar dibandingkan dengan cash"
   ]
  },
  {
   "cell_type": "code",
   "execution_count": 63,
   "metadata": {},
   "outputs": [],
   "source": [
    "test_val2 = data[data['payment'] == 1]['conv_rate'].values\n",
    "cont_val2 = data[data['payment'] == 0]['conv_rate'].values"
   ]
  },
  {
   "cell_type": "code",
   "execution_count": 64,
   "metadata": {},
   "outputs": [
    {
     "name": "stdout",
     "output_type": "stream",
     "text": [
      "0.5428571428571429 \t 0.4714285714285715\n"
     ]
    }
   ],
   "source": [
    "print(test_val2.mean(), '\\t', cont_val2.mean())"
   ]
  },
  {
   "cell_type": "code",
   "execution_count": 65,
   "metadata": {},
   "outputs": [
    {
     "name": "stdout",
     "output_type": "stream",
     "text": [
      "Ttest_indResult(statistic=0.8040844011283464, pvalue=0.43706108007333755)\n"
     ]
    }
   ],
   "source": [
    "print(ttest_ind(test_val2, cont_val2, equal_var=False))"
   ]
  },
  {
   "cell_type": "markdown",
   "metadata": {},
   "source": [
    "### Results : \n",
    "Karena pvalue lebih dari 0.05 maka retain H0, jadi kedua metode pembayaran tersebut memiliki rata-rata convertion rate yang sama"
   ]
  },
  {
   "cell_type": "markdown",
   "metadata": {},
   "source": [
    "# Conclusion\n",
    "Setelah dilakukan AB Testing dapat diambil kesimpulan bahwa :<br>\n",
    "- Rata-rata pembayaran menggunakan e-payment lebih cepat daripada cash<br>\n",
    "- Metode pembayaran e-payment dan cash memiliki rata-rata convertion rate yang sama<br>\n",
    "<br>Satrio dapat membuktikan kepada karyawan lain bahwa penggunakan e-payment terbukti dapat membuat pembayaran menjadi lebih efektif"
   ]
  },
  {
   "cell_type": "markdown",
   "metadata": {},
   "source": [
    "AB Testing memungkinkan Satrio untuk melakukan perubahan hati-hati terhadap pengguna sambil mengumpulkan data tentang hasilnya. Ini memungkinkan Satrio untuk membangun hipotesis, dan untuk belajar lebih baik mengapa elemen-elemen tertentu berdampak pada perilaku pengguna. "
   ]
  }
 ],
 "metadata": {
  "kernelspec": {
   "display_name": "Python 3",
   "language": "python",
   "name": "python3"
  },
  "language_info": {
   "codemirror_mode": {
    "name": "ipython",
    "version": 3
   },
   "file_extension": ".py",
   "mimetype": "text/x-python",
   "name": "python",
   "nbconvert_exporter": "python",
   "pygments_lexer": "ipython3",
   "version": "3.6.4"
  }
 },
 "nbformat": 4,
 "nbformat_minor": 2
}
